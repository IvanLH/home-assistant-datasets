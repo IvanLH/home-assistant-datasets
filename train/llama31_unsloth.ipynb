{
  "cells": [
    {
      "cell_type": "markdown",
      "source": [
        "# LLama3.1 8b fine tuning\n",
        "\n",
        "Using the [LLama-3.1 8B Unsloth](https://colab.research.google.com/drive/1Ys44kVvmeZtnICzWz0xgpRnrIOjZAuxp?usp=sharing#scrollTo=LjY75GoYUCB8) notebook"
      ],
      "metadata": {
        "id": "UvryFqUHGx0P"
      }
    },
    {
      "cell_type": "markdown",
      "source": [
        "## Upgrade Python"
      ],
      "metadata": {
        "id": "BYE5lSz2NlSP"
      }
    },
    {
      "cell_type": "code",
      "source": [
        "# Upgrade Python\n",
        "!apt-get update\n",
        "!apt-get install python3.12"
      ],
      "metadata": {
        "id": "9k-2DwTyIzAe",
        "outputId": "b81432e7-73a3-480a-8bb6-646d5bbb8dbd",
        "colab": {
          "base_uri": "https://localhost:8080/"
        }
      },
      "execution_count": 1,
      "outputs": [
        {
          "output_type": "stream",
          "name": "stdout",
          "text": [
            "\r0% [Working]\r            \rGet:1 https://cloud.r-project.org/bin/linux/ubuntu jammy-cran40/ InRelease [3,626 B]\n",
            "Hit:2 https://developer.download.nvidia.com/compute/cuda/repos/ubuntu2204/x86_64  InRelease\n",
            "Get:3 http://security.ubuntu.com/ubuntu jammy-security InRelease [129 kB]\n",
            "Hit:4 http://archive.ubuntu.com/ubuntu jammy InRelease\n",
            "Get:5 http://archive.ubuntu.com/ubuntu jammy-updates InRelease [128 kB]\n",
            "Hit:6 https://ppa.launchpadcontent.net/deadsnakes/ppa/ubuntu jammy InRelease\n",
            "Hit:7 https://ppa.launchpadcontent.net/graphics-drivers/ppa/ubuntu jammy InRelease\n",
            "Ign:8 https://r2u.stat.illinois.edu/ubuntu jammy InRelease\n",
            "Hit:9 https://ppa.launchpadcontent.net/ubuntugis/ppa/ubuntu jammy InRelease\n",
            "Get:10 https://r2u.stat.illinois.edu/ubuntu jammy Release [5,713 B]\n",
            "Get:11 https://r2u.stat.illinois.edu/ubuntu jammy Release.gpg [793 B]\n",
            "Get:12 http://security.ubuntu.com/ubuntu jammy-security/main amd64 Packages [2,167 kB]\n",
            "Hit:13 http://archive.ubuntu.com/ubuntu jammy-backports InRelease\n",
            "Get:14 http://archive.ubuntu.com/ubuntu jammy-updates/restricted amd64 Packages [2,958 kB]\n",
            "Get:15 https://r2u.stat.illinois.edu/ubuntu jammy/main amd64 Packages [2,552 kB]\n",
            "Get:16 http://security.ubuntu.com/ubuntu jammy-security/restricted amd64 Packages [2,861 kB]\n",
            "Get:17 http://archive.ubuntu.com/ubuntu jammy-updates/universe amd64 Packages [1,421 kB]\n",
            "Get:18 http://archive.ubuntu.com/ubuntu jammy-updates/main amd64 Packages [2,443 kB]\n",
            "Get:19 http://archive.ubuntu.com/ubuntu jammy-updates/multiverse amd64 Packages [51.8 kB]\n",
            "Get:20 https://r2u.stat.illinois.edu/ubuntu jammy/main all Packages [8,218 kB]\n",
            "Fetched 22.9 MB in 5s (4,634 kB/s)\n",
            "Reading package lists... Done\n",
            "W: Skipping acquire of configured file 'main/source/Sources' as repository 'https://r2u.stat.illinois.edu/ubuntu jammy InRelease' does not seem to provide it (sources.list entry misspelt?)\n",
            "Reading package lists... Done\n",
            "Building dependency tree... Done\n",
            "Reading state information... Done\n",
            "The following additional packages will be installed:\n",
            "  libpython3.12-minimal libpython3.12-stdlib mailcap mime-support python3.12-minimal\n",
            "Suggested packages:\n",
            "  python3.12-venv binfmt-support\n",
            "The following NEW packages will be installed:\n",
            "  libpython3.12-minimal libpython3.12-stdlib mailcap mime-support python3.12 python3.12-minimal\n",
            "0 upgraded, 6 newly installed, 0 to remove and 45 not upgraded.\n",
            "Need to get 6,135 kB of archives.\n",
            "After this operation, 23.3 MB of additional disk space will be used.\n",
            "Get:1 http://archive.ubuntu.com/ubuntu jammy/main amd64 mailcap all 3.70+nmu1ubuntu1 [23.8 kB]\n",
            "Get:2 http://archive.ubuntu.com/ubuntu jammy/main amd64 mime-support all 3.66 [3,696 B]\n",
            "Get:3 https://ppa.launchpadcontent.net/deadsnakes/ppa/ubuntu jammy/main amd64 libpython3.12-minimal amd64 3.12.4-1+jammy1 [877 kB]\n",
            "Get:4 https://ppa.launchpadcontent.net/deadsnakes/ppa/ubuntu jammy/main amd64 python3.12-minimal amd64 3.12.4-1+jammy1 [2,492 kB]\n",
            "Get:5 https://ppa.launchpadcontent.net/deadsnakes/ppa/ubuntu jammy/main amd64 libpython3.12-stdlib amd64 3.12.4-1+jammy1 [2,037 kB]\n",
            "Get:6 https://ppa.launchpadcontent.net/deadsnakes/ppa/ubuntu jammy/main amd64 python3.12 amd64 3.12.4-1+jammy1 [702 kB]\n",
            "Fetched 6,135 kB in 2s (2,601 kB/s)\n",
            "Selecting previously unselected package libpython3.12-minimal:amd64.\n",
            "(Reading database ... 123594 files and directories currently installed.)\n",
            "Preparing to unpack .../0-libpython3.12-minimal_3.12.4-1+jammy1_amd64.deb ...\n",
            "Unpacking libpython3.12-minimal:amd64 (3.12.4-1+jammy1) ...\n",
            "Selecting previously unselected package python3.12-minimal.\n",
            "Preparing to unpack .../1-python3.12-minimal_3.12.4-1+jammy1_amd64.deb ...\n",
            "Unpacking python3.12-minimal (3.12.4-1+jammy1) ...\n",
            "Selecting previously unselected package mailcap.\n",
            "Preparing to unpack .../2-mailcap_3.70+nmu1ubuntu1_all.deb ...\n",
            "Unpacking mailcap (3.70+nmu1ubuntu1) ...\n",
            "Selecting previously unselected package mime-support.\n",
            "Preparing to unpack .../3-mime-support_3.66_all.deb ...\n",
            "Unpacking mime-support (3.66) ...\n",
            "Selecting previously unselected package libpython3.12-stdlib:amd64.\n",
            "Preparing to unpack .../4-libpython3.12-stdlib_3.12.4-1+jammy1_amd64.deb ...\n",
            "Unpacking libpython3.12-stdlib:amd64 (3.12.4-1+jammy1) ...\n",
            "Selecting previously unselected package python3.12.\n",
            "Preparing to unpack .../5-python3.12_3.12.4-1+jammy1_amd64.deb ...\n",
            "Unpacking python3.12 (3.12.4-1+jammy1) ...\n",
            "Setting up libpython3.12-minimal:amd64 (3.12.4-1+jammy1) ...\n",
            "Setting up mailcap (3.70+nmu1ubuntu1) ...\n",
            "Setting up python3.12-minimal (3.12.4-1+jammy1) ...\n",
            "Setting up mime-support (3.66) ...\n",
            "Setting up libpython3.12-stdlib:amd64 (3.12.4-1+jammy1) ...\n",
            "Setting up python3.12 (3.12.4-1+jammy1) ...\n",
            "Processing triggers for man-db (2.10.2-1) ...\n"
          ]
        }
      ]
    },
    {
      "cell_type": "code",
      "execution_count": 15,
      "metadata": {
        "id": "QMl1d0cvGsQX",
        "outputId": "44e2e66e-02ec-47aa-db85-6feceea36d6e",
        "colab": {
          "base_uri": "https://localhost:8080/"
        }
      },
      "outputs": [
        {
          "output_type": "stream",
          "name": "stdout",
          "text": [
            "Cloning into 'home-assistant-datasets'...\n",
            "remote: Enumerating objects: 18910, done.\u001b[K\n",
            "remote: Counting objects: 100% (10859/10859), done.\u001b[K\n",
            "remote: Compressing objects: 100% (675/675), done.\u001b[K\n",
            "remote: Total 18910 (delta 10289), reused 10730 (delta 10180), pack-reused 8051\u001b[K\n",
            "Receiving objects: 100% (18910/18910), 9.04 MiB | 18.11 MiB/s, done.\n",
            "Resolving deltas: 100% (16917/16917), done.\n",
            "Obtaining file:///content/home-assistant-datasets\n",
            "  Installing build dependencies ... \u001b[?25l\u001b[?25hdone\n",
            "  Checking if build backend supports build_editable ... \u001b[?25l\u001b[?25hdone\n",
            "  Getting requirements to build editable ... \u001b[?25l\u001b[?25hdone\n",
            "  Preparing editable metadata (pyproject.toml) ... \u001b[?25l\u001b[?25hdone\n",
            "Requirement already satisfied: PyYAML>=6.0.1 in /usr/local/lib/python3.10/dist-packages (from home_assistant_datasets==0.0.0) (6.0.2)\n",
            "Collecting mashumaro>=3.13 (from home_assistant_datasets==0.0.0)\n",
            "  Using cached mashumaro-3.13.1-py3-none-any.whl.metadata (114 kB)\n",
            "Collecting openai>=1.10.0 (from home_assistant_datasets==0.0.0)\n",
            "  Using cached openai-1.40.6-py3-none-any.whl.metadata (22 kB)\n",
            "Requirement already satisfied: google-generativeai>=0.5.4 in /usr/local/lib/python3.10/dist-packages (from home_assistant_datasets==0.0.0) (0.7.2)\n",
            "Collecting hass-client>=1.2.0 (from home_assistant_datasets==0.0.0)\n",
            "  Using cached hass_client-1.2.0-py3-none-any.whl.metadata (1.5 kB)\n",
            "Collecting synthetic-home>=4.3.1 (from home_assistant_datasets==0.0.0)\n",
            "  Using cached synthetic_home-4.3.2-py3-none-any.whl.metadata (5.7 kB)\n",
            "INFO: pip is looking at multiple versions of home-assistant-datasets to determine which version is compatible with other requirements. This could take a while.\n",
            "\u001b[31mERROR: Package 'home-assistant-datasets' requires a different Python: 3.10.12 not in '>=3.12'\u001b[0m\u001b[31m\n",
            "\u001b[0m"
          ]
        }
      ],
      "source": [
        "!rm -fr home-assistant-datasets/\n",
        "!git clone https://github.com/allenporter/home-assistant-datasets\n",
        "!pip3 install -e home-assistant-datasets\n"
      ]
    },
    {
      "cell_type": "code",
      "source": [
        "from home_assistant_datasets.prompt import llama3\n",
        "\n",
        "dir(llama3)"
      ],
      "metadata": {
        "id": "6XUyp3WUHBaY",
        "outputId": "813900d9-41ae-4f4d-f81a-9c246158cb87",
        "colab": {
          "base_uri": "https://localhost:8080/",
          "height": 357
        }
      },
      "execution_count": 11,
      "outputs": [
        {
          "output_type": "error",
          "ename": "ModuleNotFoundError",
          "evalue": "No module named 'home_assistant_datasets'",
          "traceback": [
            "\u001b[0;31m---------------------------------------------------------------------------\u001b[0m",
            "\u001b[0;31mModuleNotFoundError\u001b[0m                       Traceback (most recent call last)",
            "\u001b[0;32m<ipython-input-11-9cdcb6b42c64>\u001b[0m in \u001b[0;36m<cell line: 1>\u001b[0;34m()\u001b[0m\n\u001b[0;32m----> 1\u001b[0;31m \u001b[0;32mfrom\u001b[0m \u001b[0mhome_assistant_datasets\u001b[0m\u001b[0;34m.\u001b[0m\u001b[0mprompt\u001b[0m \u001b[0;32mimport\u001b[0m \u001b[0mllama3\u001b[0m\u001b[0;34m\u001b[0m\u001b[0;34m\u001b[0m\u001b[0m\n\u001b[0m\u001b[1;32m      2\u001b[0m \u001b[0;34m\u001b[0m\u001b[0m\n\u001b[1;32m      3\u001b[0m \u001b[0mdir\u001b[0m\u001b[0;34m(\u001b[0m\u001b[0mllama3\u001b[0m\u001b[0;34m)\u001b[0m\u001b[0;34m\u001b[0m\u001b[0;34m\u001b[0m\u001b[0m\n",
            "\u001b[0;31mModuleNotFoundError\u001b[0m: No module named 'home_assistant_datasets'",
            "",
            "\u001b[0;31m---------------------------------------------------------------------------\u001b[0;32m\nNOTE: If your import is failing due to a missing package, you can\nmanually install dependencies using either !pip or !apt.\n\nTo view examples of installing some common dependencies, click the\n\"Open Examples\" button below.\n\u001b[0;31m---------------------------------------------------------------------------\u001b[0m\n"
          ],
          "errorDetails": {
            "actions": [
              {
                "action": "open_url",
                "actionText": "Open Examples",
                "url": "/notebooks/snippets/importing_libraries.ipynb"
              }
            ]
          }
        }
      ]
    },
    {
      "cell_type": "code",
      "source": [
        "import sys\n",
        "sys.version_info"
      ],
      "metadata": {
        "id": "_NRJN4O1Hdu6",
        "outputId": "f72eb34d-b007-409a-b5c3-a70f789607e4",
        "colab": {
          "base_uri": "https://localhost:8080/"
        }
      },
      "execution_count": 12,
      "outputs": [
        {
          "output_type": "execute_result",
          "data": {
            "text/plain": [
              "sys.version_info(major=3, minor=10, micro=12, releaselevel='final', serial=0)"
            ]
          },
          "metadata": {},
          "execution_count": 12
        }
      ]
    }
  ],
  "metadata": {
    "language_info": {
      "name": "python"
    },
    "colab": {
      "provenance": [],
      "gpuType": "T4"
    },
    "kernelspec": {
      "name": "python3",
      "display_name": "Python 3"
    },
    "accelerator": "GPU"
  },
  "nbformat": 4,
  "nbformat_minor": 0
}