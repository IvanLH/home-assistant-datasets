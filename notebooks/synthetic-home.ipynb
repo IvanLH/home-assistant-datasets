{
 "cells": [
  {
   "cell_type": "markdown",
   "metadata": {},
   "source": [
    "# Synthetic Home\n",
    "\n",
    "An experiment to use an LLM to generate synthetic home data."
   ]
  },
  {
   "cell_type": "code",
   "execution_count": 11,
   "metadata": {},
   "outputs": [],
   "source": [
    "import hass_client\n",
    "import openai\n",
    "\n",
    "from home_assistant_datasets.secrets import get_secret\n",
    "from home_assistant_datasets import hass_data\n",
    "from home_assistant_datasets import model_client\n",
    "\n",
    "MODEL_ID = \"gpt-3.5-turbo-0125\"\n",
    "\n",
    "secrets = get_secret(\"hostport\")\n",
    "client: hass_client.HomeAssistantClient = await hass_data.create_client(\n",
    "    get_secret(\"hostport\"), get_secret(\"hass_token\")\n",
    ")\n",
    "openai = openai.OpenAI(api_key=get_secret(\"openai_key\"))\n",
    "model = model_client.ModelClient(openai, MODEL_ID)"
   ]
  },
  {
   "cell_type": "markdown",
   "metadata": {},
   "source": [
    "# Area Generation"
   ]
  },
  {
   "cell_type": "code",
   "execution_count": 5,
   "metadata": {},
   "outputs": [],
   "source": [
    "AREA_PROMPT = f\"\"\"\n",
    "You are generating synthetic data to used to train models for Home Assistant. You\n",
    "use your knowledge about the different homes in different geographies of the\n",
    "world, different types of homes, and lifesyles. For example a home in the\n",
    "US might have a garage, a home in Europe might have a garden. A single person\n",
    "living in a studio apartment might not have a dining room. A family in a house\n",
    "might have a backyard. A person living in a high rise might not have a backyard.\n",
    "\n",
    "Here is an example Home:\n",
    "\n",
    "Home: US House in Los Angeles\n",
    "- Area: Kitchen\n",
    "- Area: Living Room\n",
    "- Area: Dining Room\n",
    "- Area: Loft\n",
    "- Area: Master bedroom\n",
    "- Area: Kids bedroom 1\n",
    "- Area: Kids bedroom 2\n",
    "- Area: Bathroom\n",
    "- Area: Office\n",
    "- Area: Garage\n",
    "- Area: Backyard\n",
    "- Area: Frontyard\n",
    "\n",
    "The user will ask you to generate a home with a specific set of areas.\n",
    "\"\"\""
   ]
  },
  {
   "cell_type": "code",
   "execution_count": 13,
   "metadata": {},
   "outputs": [
    {
     "name": "stdout",
     "output_type": "stream",
     "text": [
      "Home 1: European Apartment in Paris\n",
      "- Area: Living Room\n",
      "- Area: Kitchen\n",
      "- Area: Bedroom\n",
      "- Area: Bathroom\n",
      "\n",
      "Home 2: Australian House in Sydney\n",
      "- Area: Living Room\n",
      "- Area: Kitchen\n",
      "- Area: Dining Room\n",
      "- Area: Master Bedroom\n",
      "- Area: Kids Bedroom\n",
      "- Area: Bathroom\n",
      "- Area: Backyard\n",
      "\n",
      "Home 3: Japanese Apartment in Tokyo\n",
      "- Area: Living Room\n",
      "- Area: Kitchen\n",
      "- Area: Bedroom\n",
      "- Area: Bathroom\n"
     ]
    }
   ],
   "source": [
    "response = model.complete(AREA_PROMPT, \"Please generate a 3 different homes and their areas\")\n",
    "print(response)"
   ]
  },
  {
   "cell_type": "code",
   "execution_count": 14,
   "metadata": {},
   "outputs": [
    {
     "name": "stdout",
     "output_type": "stream",
     "text": [
      "Certainly! Here are three different homes in the US with their areas:\n",
      "\n",
      "1. Home: US House in New York City\n",
      "   - Area: Kitchen\n",
      "   - Area: Living Room\n",
      "   - Area: Dining Room\n",
      "   - Area: Master Bedroom\n",
      "   - Area: Guest Bedroom\n",
      "   - Area: Bathroom\n",
      "   - Area: Home Office\n",
      "   - Area: Balcony\n",
      "\n",
      "2. Home: US Apartment in Chicago\n",
      "   - Area: Kitchen\n",
      "   - Area: Living Room\n",
      "   - Area: Bedroom\n",
      "   - Area: Bathroom\n",
      "   - Area: Study Nook\n",
      "\n",
      "3. Home: US Suburban House in Dallas\n",
      "   - Area: Kitchen\n",
      "   - Area: Living Room\n",
      "   - Area: Dining Room\n",
      "   - Area: Master Bedroom\n",
      "   - Area: Kids Bedroom\n",
      "   - Area: Bathroom\n",
      "   - Area: Home Office\n",
      "   - Area: Basement\n",
      "   - Area: Garage\n",
      "   - Area: Backyard\n"
     ]
    }
   ],
   "source": [
    "response = model.complete(PROMPT, \"Please generate a 3 different homes in the US their areas\")\n",
    "print(response)"
   ]
  },
  {
   "cell_type": "markdown",
   "metadata": {},
   "source": [
    "# Device Generation"
   ]
  },
  {
   "cell_type": "code",
   "execution_count": 16,
   "metadata": {},
   "outputs": [],
   "source": [
    "DEVICE_PROMPT = f\"\"\"\n",
    "You are generating synthetic data to used to train AI models for Home Assistant. You\n",
    "use your knowledge about the different homes in different geographies of the\n",
    "world, different types of homes, and lifesyles. Different homes might have different\n",
    "types of smart devices and different types of rooms. A family in a house might have\n",
    "a backyard with a smart irrigation system. A person living in a high rise might not\n",
    "have a backyard, but might have a smart thermostat. A home in Europe might have\n",
    "a garden with a weather station. A single person living in a studio apartment might\n",
    "have smart led lights, but not a dining room. \n",
    "\n",
    "\n",
    "Home: US Suburban House in Dallas\n",
    "   - Area: Kitchen\n",
    "     - Kitchen Room Light (light.kitchen): on\n",
    "   - Area: Living Room\n",
    "     - Living Room Light (light.living_room): on\n",
    "     - Temperature (sensor.living_room_humidity): 45 %\n",
    "     - Humidity (sensor.living_room_temperature): 68.1 °F\n",
    "   - Area: Dining Room\n",
    "     - Dining Room Light (light.dining_room): off\n",
    "   - Area: Master Bedroom\n",
    "     - Bedroom Roku TV (remote.bedroom_roku_tv): off\n",
    "     - Bedroom Roku TV (media_player.bedroom_roku_tv): standby\n",
    "     - Bedroom Blinds (cover.bedroom_blinds): closed\n",
    "   - Area: Kids Bedroom\n",
    "   - Area: Bathroom\n",
    "   - Area: Office\n",
    "   - Area: Garage\n",
    "     - Garage Door (cover.garage_door): closed\n",
    "   - Area: Front Yard\n",
    "     - Camera (camera.front_yard): streaming\n",
    "     - Humidity (sensor.front_yard_humidity): 91 %\n",
    "     - Humidity (sensor.front_yard_temperature): 53 °F\n",
    "\n",
    "\n",
    "The user will ask you to generate a home with a specific set of devices.\n",
    "\"\"\""
   ]
  },
  {
   "cell_type": "code",
   "execution_count": 17,
   "metadata": {},
   "outputs": [
    {
     "name": "stdout",
     "output_type": "stream",
     "text": [
      "Home: US Apartment in Chicago\n",
      "   - Area: Living Room\n",
      "     - Living Room Light (light.living_room): on\n",
      "     - Smart Thermostat (climate.smart_thermostat): 72 °F\n",
      "     - Smart TV (media_player.living_room_tv): off\n",
      "   - Area: Bedroom\n",
      "     - Bedroom Light (light.bedroom): off\n",
      "     - Bedroom Fan (fan.bedroom_fan): off\n",
      "     - Smart Speaker (media_player.bedroom_speaker): standby\n",
      "   - Area: Bathroom\n",
      "     - Bathroom Light (light.bathroom): on\n",
      "     - Smart Mirror (sensor.bathroom_mirror): idle\n",
      "   - Area: Kitchen\n",
      "     - Kitchen Light (light.kitchen): on\n",
      "     - Refrigerator (sensor.kitchen_refrigerator): 37 °F\n",
      "   - Area: Home Office\n",
      "     - Desk Lamp (light.desk_lamp): off\n",
      "     - Computer (device.office_computer): asleep\n",
      "   - Area: Balcony\n",
      "     - Smart Doorbell (camera.balcony_doorbell): idle\n",
      "     - Weather Station (sensor.balcony_weather): 62 °F, 70 % Humidity\n"
     ]
    }
   ],
   "source": [
    "response = model.complete(DEVICE_PROMPT, \"Please generate devices for a US Apartment in Chicago\")\n",
    "print(response)"
   ]
  }
 ],
 "metadata": {
  "kernelspec": {
   "display_name": "venv",
   "language": "python",
   "name": "python3"
  },
  "language_info": {
   "codemirror_mode": {
    "name": "ipython",
    "version": 3
   },
   "file_extension": ".py",
   "mimetype": "text/x-python",
   "name": "python",
   "nbconvert_exporter": "python",
   "pygments_lexer": "ipython3",
   "version": "3.11.3"
  }
 },
 "nbformat": 4,
 "nbformat_minor": 2
}
