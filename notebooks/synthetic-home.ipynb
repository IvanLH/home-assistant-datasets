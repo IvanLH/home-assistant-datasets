{
 "cells": [
  {
   "cell_type": "markdown",
   "metadata": {},
   "source": [
    "# Synthetic Home\n",
    "\n",
    "An experiment to use an LLM to generate synthetic home data."
   ]
  },
  {
   "cell_type": "code",
   "execution_count": 1,
   "metadata": {},
   "outputs": [],
   "source": [
    "import hass_client\n",
    "import openai\n",
    "\n",
    "from home_assistant_datasets.secrets import get_secret\n",
    "from home_assistant_datasets import hass_data\n",
    "from home_assistant_datasets import model_client\n",
    "\n",
    "MODEL_ID = \"mistral-7b-inst.gguf\"\n",
    "\n",
    "secrets = get_secret(\"hostport\")\n",
    "client: hass_client.HomeAssistantClient = await hass_data.create_client(\n",
    "    get_secret(\"hostport\"), get_secret(\"hass_token\")\n",
    ")\n",
    "openai = openai.OpenAI(base_url=get_secret(\"openai_url\"), api_key=get_secret(\"openai_key\"))\n",
    "model = model_client.ModelClient(openai, MODEL_ID)"
   ]
  },
  {
   "cell_type": "code",
   "execution_count": 2,
   "metadata": {},
   "outputs": [],
   "source": [
    "PROMPT = f\"\"\"\n",
    "You are generating synthetic data to used to train models for Home Assistant. You\n",
    "use your knowledge about the different homes in different geographies of the\n",
    "world, different types of homes, and lifesyles. For example a home in the\n",
    "US might have a garage, a home in Europe might have a garden. A single person\n",
    "living in a studio apartment might not have a dining room. A family in a house\n",
    "might have a backyard. A person living in a high rise might not have a backyard.\n",
    "\n",
    "Here is an example Home:\n",
    "\n",
    "Home: US House in Los Angeles\n",
    "- Area: Kitchen\n",
    "- Area: Living Room\n",
    "- Area: Dining Room\n",
    "- Area: Loft\n",
    "- Area: Master bedroom\n",
    "- Area: Kids bedroom 1\n",
    "- Area: Kids bedroom 2\n",
    "- Area: Bathroom\n",
    "- Area: Office\n",
    "- Area: Garage\n",
    "- Area: Backyard\n",
    "- Area: Frontyard\n",
    "\n",
    "The user will ask you to generate a home with a specific set of areas.\n",
    "\"\"\""
   ]
  },
  {
   "cell_type": "code",
   "execution_count": 4,
   "metadata": {},
   "outputs": [
    {
     "data": {
      "text/plain": [
       "' Sure, here are three different home areas for three different types of homes:\\n\\n1. Home 1: Modern Apartment\\n* Area: Living Room\\n* Area: Kitchen\\n* Area: Bedroom\\n* Area: Bathroom\\n* Area: Balcony\\n2. Home 2: Rural House\\n* Area: Kitchen\\n* Area: Living Room\\n* Area: Dining Room\\n* Area: Backyard\\n* Area: Garage\\n3. Home 3: Urban Condo\\n* Area: Living Room\\n* Area: Kitchen\\n* Area: Bedroom\\n* Area: Balcony\\n* Area: Office'"
      ]
     },
     "execution_count": 4,
     "metadata": {},
     "output_type": "execute_result"
    }
   ],
   "source": [
    "response = model.complete(PROMPT, \"Please generate a 3 different homes and their areas\")\n",
    "response"
   ]
  }
 ],
 "metadata": {
  "kernelspec": {
   "display_name": "venv",
   "language": "python",
   "name": "python3"
  },
  "language_info": {
   "codemirror_mode": {
    "name": "ipython",
    "version": 3
   },
   "file_extension": ".py",
   "mimetype": "text/x-python",
   "name": "python",
   "nbconvert_exporter": "python",
   "pygments_lexer": "ipython3",
   "version": "3.11.3"
  }
 },
 "nbformat": 4,
 "nbformat_minor": 2
}
