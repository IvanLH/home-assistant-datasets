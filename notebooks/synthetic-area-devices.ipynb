{
 "cells": [
  {
   "cell_type": "markdown",
   "metadata": {},
   "source": [
    "# Synthetic Areas & Devices"
   ]
  },
  {
   "cell_type": "markdown",
   "metadata": {},
   "source": [
    "## Model Client"
   ]
  },
  {
   "cell_type": "code",
   "execution_count": 1,
   "metadata": {},
   "outputs": [],
   "source": [
    "import openai\n",
    "\n",
    "from home_assistant_datasets.secrets import get_secret\n",
    "from home_assistant_datasets import model_client\n",
    "\n",
    "MODEL_ID = \"gpt-3.5-turbo-0125\"\n",
    "\n",
    "openai = openai.OpenAI(api_key=get_secret(\"openai_key\"))\n",
    "model = model_client.ModelClient(openai, MODEL_ID)"
   ]
  },
  {
   "cell_type": "markdown",
   "metadata": {},
   "source": [
    "# Read seed data used in the prompt\n",
    "\n",
    "The seed data for the prompt is manually curated to use as examples for further synthetic data generation."
   ]
  },
  {
   "cell_type": "code",
   "execution_count": 4,
   "metadata": {},
   "outputs": [],
   "source": [
    "import pathlib\n",
    "import yaml\n",
    "\n",
    "DATASET_DIR = pathlib.Path(\"../datasets/\")\n",
    "SEEDS_DIR = DATASET_DIR / \"seeds\"\n",
    "HOME_AREAS_FILE = SEEDS_DIR / \"home-areas.yaml\"\n",
    "\n",
    "with open(HOME_AREAS_FILE) as f:\n",
    "    seed_areas = list(yaml.load_all(f.read(), Loader=yaml.Loader))"
   ]
  },
  {
   "cell_type": "code",
   "execution_count": 10,
   "metadata": {},
   "outputs": [],
   "source": [
    "AREA_PROMPT_FORMAT = \"\"\"\n",
    "Input:\n",
    "{home}\n",
    "Output:\n",
    "{areas}\n",
    "\"\"\"\n",
    "\n",
    "item = []\n",
    "for seed in seed_areas:\n",
    "    home = yaml.dump(seed[\"home\"], sort_keys=False)\n",
    "    areas = yaml.dump(seed[\"areas\"], sort_keys=False)\n",
    "    item.append(AREA_PROMPT_FORMAT.format(home=home, areas=areas))\n",
    "\n",
    "seed_area_prompt = \"\\n\".join(item)"
   ]
  },
  {
   "cell_type": "markdown",
   "metadata": {},
   "source": [
    "## Generate Areas and devices"
   ]
  },
  {
   "cell_type": "code",
   "execution_count": 25,
   "metadata": {},
   "outputs": [],
   "source": [
    "AREA_DEVICES_PROMPT = f\"\"\"\n",
    "You are generating synthetic data to used to train models for Home Assistant\n",
    "and used to evaluate things like generating a summary, performing home automation\n",
    "actions, or for generating other synthetic data.\n",
    "\n",
    "You use your knowledge about the world to generate details about homes that\n",
    "can be used for synthetic smart home automation data. For example, an apartment\n",
    "may have a smart thermostat, a house may have a smart garage door opener or \n",
    "smart lock and camera, and all houses may have a smart light or weather feed\n",
    "air quality, or a smart speaker or television. The needs of a home owner\n",
    "may vary if they are a single person or family, or where in the world they\n",
    "live. For example, a high rise aparment probably does not have a backyard.\n",
    "\n",
    "Do not be cliche. Do not assume every home has a smart watch. Don't assume\n",
    "every room has a smart light just because it is listed, but of course many will.\n",
    "\n",
    "Below are example inputs and outputs for generating areas and devices for a home,\n",
    "thinking step by step about the needs of the home.\n",
    "\n",
    "{seed_area_prompt}\n",
    "\"\"\""
   ]
  },
  {
   "cell_type": "code",
   "execution_count": 32,
   "metadata": {},
   "outputs": [
    {
     "name": "stderr",
     "output_type": "stream",
     "text": [
      "Skipped 0: 100%|██████████| 25/25 [01:05<00:00,  2.60s/it]\n"
     ]
    }
   ],
   "source": [
    "from tqdm.auto import tqdm\n",
    "import itertools\n",
    "\n",
    "import yaml\n",
    "import pathlib\n",
    "import random\n",
    "\n",
    "N_DATAPOINTS = 25\n",
    "DATASET_DIR = pathlib.Path(\"../datasets/\")\n",
    "AREA_DEVICES_YAML = DATASET_DIR / \"area-devices.yaml\"\n",
    "\n",
    "with open(DATASET_DIR / \"homes.yaml\", \"r\") as f:\n",
    "    content = f.read()\n",
    "\n",
    "data = yaml.safe_load(content)\n",
    "homes = data[\"homes\"]\n",
    "random.shuffle(homes)\n",
    "\n",
    "if len(homes) > N_DATAPOINTS:\n",
    "    homes = homes[:N_DATAPOINTS]\n",
    "\n",
    "skipped = 0\n",
    "with open(AREA_DEVICES_YAML, \"w\") as device_output:\n",
    "    with tqdm(total=len(homes)) as pbar:\n",
    "        for home in homes:\n",
    "            batch_yaml = yaml.dump(home, explicit_start=True, sort_keys=False)\n",
    "\n",
    "            response_obj = None\n",
    "            for i in range(0, 3):\n",
    "                response = model.complete(AREA_DEVICES_PROMPT, batch_yaml)\n",
    "                try:\n",
    "                    response_obj = yaml.safe_load(response)\n",
    "                    break\n",
    "                except yaml.YAMLError as exc:\n",
    "                    continue\n",
    "            if \"Output\" in response_obj:\n",
    "                del response_obj[\"Output\"]\n",
    "\n",
    "            if response_obj is not None:\n",
    "                updated_home = home.copy()\n",
    "                updated_home.update({\"areas\": response_obj})\n",
    "                device_output.write(yaml.dump(updated_home, explicit_start=True, sort_keys=False))\n",
    "            pbar.set_description(f\"Skipped {skipped}\")\n",
    "            pbar.update(1)\n"
   ]
  },
  {
   "cell_type": "markdown",
   "metadata": {},
   "source": [
    "## Data Distributions\n",
    "\n",
    "Validate the data and look at the generated data distributions. This gives us a chance to hand fix any individual\n",
    "bad records as well."
   ]
  },
  {
   "cell_type": "code",
   "execution_count": 37,
   "metadata": {},
   "outputs": [
    {
     "name": "stdout",
     "output_type": "stream",
     "text": [
      "Total homes: 25\n",
      "Total areas: 145 (average 5.80 per home)\n",
      "Total devices: 293 (average 11.72 per area)\n",
      "Total unique devices: 52\n",
      "Devices:\n"
     ]
    },
    {
     "data": {
      "text/plain": [
       "[('light', '37%'),\n",
       " ('smart_tv', '8%'),\n",
       " ('smart_speaker', '7%'),\n",
       " ('smartphone', '6%'),\n",
       " ('laptop', '5%'),\n",
       " ('tablet', '4%'),\n",
       " ('camera', '4%'),\n",
       " ('smart_light', '2%'),\n",
       " ('sprinkler', '2%'),\n",
       " ('thermostat', '2%'),\n",
       " ('speaker', '2%'),\n",
       " ('smartwatch', '1%'),\n",
       " ('smart_blind', '1%'),\n",
       " ('smartphone 2', '1%'),\n",
       " ('cover', '1%')]"
      ]
     },
     "execution_count": 37,
     "metadata": {},
     "output_type": "execute_result"
    }
   ],
   "source": [
    "from operator import itemgetter\n",
    "\n",
    "with open(AREA_DEVICES_YAML, \"r\") as f:\n",
    "    content = f.read()\n",
    "    homes = list(yaml.load_all(content, Loader=yaml.Loader))\n",
    "\n",
    "devices_counts =  {}\n",
    "total_homes = len(homes)\n",
    "total_areas = 0\n",
    "total_devices = 0\n",
    "for home in homes:\n",
    "    area_devices = home[\"areas\"][\"area_devices\"]\n",
    "    for (area, devices) in area_devices.items():\n",
    "        total_areas += 1\n",
    "        for device in devices:\n",
    "            if device not in devices_counts:\n",
    "                devices_counts[device] = 0\n",
    "            devices_counts[device] += 1\n",
    "            total_devices += 1\n",
    "    other_devices = home[\"areas\"][\"other_devices\"]\n",
    "    for device in other_devices:\n",
    "        if device not in devices_counts:\n",
    "            devices_counts[device] = 0\n",
    "        devices_counts[device] += 1\n",
    "        total_devices += 1\n",
    "\n",
    "\n",
    "print(f\"Total homes: {total_homes}\")\n",
    "print(f\"Total areas: {total_areas} (average {total_areas / total_homes:0.2f} per home)\")\n",
    "print(f\"Total devices: {total_devices} (average {total_devices / total_homes:0.2f} per area)\")\n",
    "print(f\"Total unique devices: {len(devices_counts)}\")\n",
    "\n",
    "sorted_dict = dict(sorted(devices_counts.items(), key=itemgetter(1), reverse=True))\n",
    "device_rank = [ (k, f\"{(v / total_devices)*100:.0f}%\") for k, v in itertools.islice(sorted_dict.items(), 15) ]\n",
    "\n",
    "print(f\"Devices:\")\n",
    "device_rank"
   ]
  }
 ],
 "metadata": {
  "kernelspec": {
   "display_name": "venv",
   "language": "python",
   "name": "python3"
  },
  "language_info": {
   "codemirror_mode": {
    "name": "ipython",
    "version": 3
   },
   "file_extension": ".py",
   "mimetype": "text/x-python",
   "name": "python",
   "nbconvert_exporter": "python",
   "pygments_lexer": "ipython3",
   "version": "3.11.3"
  }
 },
 "nbformat": 4,
 "nbformat_minor": 2
}
