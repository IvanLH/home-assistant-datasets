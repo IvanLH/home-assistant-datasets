{
 "cells": [
  {
   "cell_type": "markdown",
   "metadata": {},
   "source": [
    "# Hass Client\n",
    "\n",
    "Create a long lived access token https://www.home-assistant.io/docs/authentication/"
   ]
  },
  {
   "cell_type": "code",
   "execution_count": 18,
   "metadata": {},
   "outputs": [],
   "source": [
    "import yaml\n",
    "\n",
    "secrets = yaml.load(open(\"secrets.yaml\"), Loader=yaml.Loader)\n",
    "api_token = secrets[\"hass_token\"]\n",
    "hostport = secrets[\"hostport\"]"
   ]
  },
  {
   "cell_type": "code",
   "execution_count": 19,
   "metadata": {},
   "outputs": [],
   "source": [
    "\n",
    "import hass_client\n",
    "\n",
    "url = f\"wss://{hostport}/api/websocket\"\n",
    "\n",
    "client = hass_client.HomeAssistantClient(url, api_token)\n",
    "await client.connect()"
   ]
  },
  {
   "cell_type": "code",
   "execution_count": 20,
   "metadata": {},
   "outputs": [
    {
     "data": {
      "text/plain": [
       "683"
      ]
     },
     "execution_count": 20,
     "metadata": {},
     "output_type": "execute_result"
    }
   ],
   "source": [
    "states = await client.get_states()\n",
    "len(states)"
   ]
  }
 ],
 "metadata": {
  "kernelspec": {
   "display_name": "venv",
   "language": "python",
   "name": "python3"
  },
  "language_info": {
   "codemirror_mode": {
    "name": "ipython",
    "version": 3
   },
   "file_extension": ".py",
   "mimetype": "text/x-python",
   "name": "python",
   "nbconvert_exporter": "python",
   "pygments_lexer": "ipython3",
   "version": "3.11.3"
  }
 },
 "nbformat": 4,
 "nbformat_minor": 2
}
