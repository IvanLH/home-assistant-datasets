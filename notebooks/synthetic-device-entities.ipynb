{
 "cells": [
  {
   "cell_type": "markdown",
   "metadata": {},
   "source": [
    "# Synthetic Device Entities\n",
    "\n",
    "This notebook is for creating synthetic entites based on the previously seeded devices for each area."
   ]
  },
  {
   "cell_type": "markdown",
   "metadata": {},
   "source": [
    "## Model Client"
   ]
  },
  {
   "cell_type": "code",
   "execution_count": 3,
   "metadata": {},
   "outputs": [],
   "source": [
    "import openai\n",
    "\n",
    "from home_assistant_datasets.secrets import get_secret\n",
    "from home_assistant_datasets import model_client\n",
    "\n",
    "MODEL_ID = \"gpt-3.5-turbo-0125\"\n",
    "\n",
    "openai = openai.OpenAI(api_key=get_secret(\"openai_key\"))\n",
    "model = model_client.ModelClient(openai, MODEL_ID)"
   ]
  },
  {
   "cell_type": "markdown",
   "metadata": {},
   "source": [
    "## Synthetic Devices"
   ]
  },
  {
   "cell_type": "code",
   "execution_count": 51,
   "metadata": {},
   "outputs": [],
   "source": [
    "import pathlib\n",
    "import yaml\n",
    "\n",
    "DATASET_DIR = pathlib.Path(\"../datasets/\")\n",
    "SEEDS_DIR = DATASET_DIR / \"seeds\"\n",
    "TYPES_FILE = SEEDS_DIR / \"types.yaml\"\n",
    "DEVICE_ENTITIES_FILE = SEEDS_DIR / \"device-entities.yaml\"\n",
    "\n",
    "with open(TYPES_FILE) as f:\n",
    "    seeds = yaml.load(f.read(), Loader=yaml.Loader)\n",
    "\n",
    "platforms = seeds[\"platforms\"]\n",
    "sensor_device_classes = seeds[\"sensor_device_classes\"]\n",
    "binary_sensor_device_classes = seeds[\"binary_sensor_device_classes\"]\n",
    "\n",
    "with open(DEVICE_ENTITIES_FILE) as f:\n",
    "    seed_device_entities = list(yaml.load_all(f.read(), Loader=yaml.Loader))"
   ]
  },
  {
   "cell_type": "code",
   "execution_count": 38,
   "metadata": {},
   "outputs": [
    {
     "name": "stdout",
     "output_type": "stream",
     "text": [
      "{'home': [{'name': 'Coastal Bungalow', 'thoughts': ['The bungalow in a seaside village may be a vacation home or a tranquil retreat.', 'The cozy living room with a fireplace hints at a cozy atmosphere, and there may be smart climate control for comfort.', 'The outdoor shower is convenient for beach days, so there may be smart water heating systems.'], 'desc': 'Bungalow in a seaside village in Norway', 'area_devices': {'Living Room': ['light', 'climate_control'], 'Bedrooms': ['light'], 'Porch': ['light'], 'Outdoor Shower': ['water_heater']}, 'other_devices': ['smartphone', 'laptop']}], 'device_entities': [{'Living Room': [{'name': 'light', 'entities': ['light.living_room']}, {'name': 'climate_control', 'entities': ['climage.living_room', 'sensor.living_room_temperature', 'sensor.living_room_humidity']}]}, {'Bedrooms': [{'name': 'light', 'entities': ['light.bedroom']}]}, {'Porch': [{'name': 'light', 'entities': ['light.porch']}]}, {'Outdoor Shower': [{'name': 'water_heater', 'entities': ['water_heater.outdoor_shower', 'sensor.outdoor_shower_temperature']}]}, {'Other': [{'name': 'smartphone', 'entities': ['device_tracker.android']}, {'name': 'laptop', 'entities': ['device_tracker.laptop']}]}]}\n",
      "{'home': [{'name': 'Home2', 'thoughts': ['The apartment with city views may cater to a single person or a couple.', 'The shared rooftop terrace could have restrictions on device installations.', 'In-unit laundry suggests convenience, so there may be a smart washer and dryer.'], 'desc': 'Apartment in urban area in New York City, USA', 'area_devices': {'Living Room': ['light', 'smart_tv'], 'Kitchen': ['light'], 'Bedroom': ['light'], 'Balcony': ['light']}, 'other_devices': ['laptop', 'smartphone', 'tablet', 'smartwatch']}], 'device_entities': [{'Living Room': [{'name': 'light', 'entities': ['light.living_room']}, {'name': 'smart_tv', 'entities': ['media_player.living_room_tv', 'remote.living_room_tv', 'binary-sensor.living_room_tv_headphones_connected']}]}, {'Kitchen': [{'name': 'light', 'entities': ['light.kitchen']}]}, {'Bedroom': [{'name': 'light', 'entities': ['light.bedroom']}]}, {'Balcony': [{'name': 'light', 'entities': ['light.balcony']}]}, {'Other': [{'name': 'laptop', 'entities': ['device_tracker.laptop']}, {'name': 'tablet', 'entities': ['device_tracker.tablet']}, {'name': 'smartphone', 'entities': ['device_tracker.iphone']}, {'name': 'smartwatch', 'entities': ['device_tracker.watch', 'sensor.steps', 'sensor.heart_rate']}]}]}\n",
      "{'home': [{'name': 'Loft Industrial', 'thoughts': ['The industrial loft with an open space and high ceilings may have a modern and minimalist design.', 'The panoramic windows offer plenty of natural light, ideal for a smart lighting system.', 'The rooftop terrace could be a great spot for outdoor entertainment, so there may be smart speakers or a sound system.'], 'desc': 'Industrial loft in Barcelona, Spain', 'area_devices': {'Living Space': ['light', 'speaker'], 'Kitchen': ['light'], 'Bathroom': ['light'], 'Terrace': ['light', 'speaker']}, 'other_devices': ['laptop', 'smartphone']}], 'device_entities': [{'Living Space': [{'name': 'light', 'entities': ['light.living_space']}, {'name': 'speaker', 'entities': ['media_player.living_space']}]}, {'Kitchen': [{'name': 'light', 'entities': ['light.kitchen']}]}, {'Terrace': [{'name': 'light', 'entities': ['light.terrace']}, {'name': 'speaker', 'entities': ['media_player.terrace', 'number.terrace_speaker_balance', 'number.terrace_speaker_treble', 'number.terrace_speaker_mid', 'number.terrace_speaker_bass', 'switch.terrace_speaker_surround_enabled', 'switch.terrace_speech_enhancement']}]}, {'Other': [{'name': 'laptop', 'entities': ['device_tracker.laptop', 'sensor.laptop_battery_level']}, {'name': 'smartphone', 'entities': ['device_tracker.android', 'sensor.android_battery_level', 'sensor.android_battery_temperature', 'sensor.android_battery_voltage']}]}]}\n"
     ]
    }
   ],
   "source": [
    "DEVICE_ENTITY_PROMPT_FORMAT = \"\"\"\n",
    "Input:\n",
    "{home}\n",
    "Output:\n",
    "{device_entities}\n",
    "\"\"\"\n",
    "\n",
    "item = []\n",
    "for seed in seed_device_entities:\n",
    "    print(seed)\n",
    "    home = yaml.dump(seed[\"home\"], sort_keys=False)\n",
    "    entities = yaml.dump(seed[\"device_entities\"], sort_keys=False)\n",
    "    item.append(DEVICE_ENTITY_PROMPT_FORMAT.format(home=home, device_entities=entities))\n",
    "\n",
    "seed_device_entity_prompt = \"\\n\".join(item)\n"
   ]
  },
  {
   "cell_type": "code",
   "execution_count": 52,
   "metadata": {},
   "outputs": [],
   "source": [
    "DEVICE_TYPE_PROMPT = f\"\"\"\n",
    "You are generating synthetic data to used to train models for Home Assistant\n",
    "and used to evaluate things like generating a summary, performing home automation\n",
    "actions, or for generating other synthetic data.\n",
    "\n",
    "You use your knowledge about the world to generate details about devices taht\n",
    "can be used for synthetic smart home automation data. For example, an apartment\n",
    "may have a smart thermostat, a house may have a smart garage door opener or \n",
    "smart lock and camera, and all houses may have a smart light or weather feed\n",
    "air quality, or a smart speaker or television. The needs of a home owner\n",
    "may vary if they are a single person or family, or where in the world they\n",
    "live. For example, a person living in a high rise may not have a backyard. It\n",
    "helps to think step by step when generating the data.\n",
    "\n",
    "A device in Home Assistant represents a physical or virtual object, but really\n",
    "it is rare to interact with the device itself. Instead, you interact with the\n",
    "device through the entities that represent the device. For example a smart\n",
    "light bulb may have an entity that represents the light bulb and another\n",
    "entity that represents the light switch. Another example is a smart thermostat\n",
    "may be represented as a climate entity and a sensor entity that represents\n",
    "the temperature, and another sensor that represents the humited. A smart dishwasher\n",
    "may be represented as a set of sensor entities, a select entity for the clean cycle\n",
    "mode, and switch entities.\n",
    "\n",
    "The following entity types are supported:\n",
    "{platforms}\n",
    "\n",
    "Below are example inputs and outputs for generating device entities for a home.\n",
    "\n",
    "{seed_device_entity_prompt}\n",
    "\"\"\""
   ]
  },
  {
   "cell_type": "code",
   "execution_count": 55,
   "metadata": {},
   "outputs": [
    {
     "name": "stderr",
     "output_type": "stream",
     "text": [
      "Skipped 0:  20%|██        | 1/5 [00:08<00:35,  8.92s/it]"
     ]
    },
    {
     "name": "stdout",
     "output_type": "stream",
     "text": [
      "[{'Living Space': [{'name': 'light', 'entities': ['light.living_space']}, {'name': 'speaker', 'entities': ['media_player.living_space']}]}, {'Kitchen': [{'name': 'light', 'entities': ['light.kitchen']}]}, {'Bathroom': [{'name': 'light', 'entities': ['light.bathroom']}]}, {'Terrace': [{'name': 'light', 'entities': ['light.terrace']}, {'name': 'speaker', 'entities': ['media_player.terrace', 'number.terrace_speaker_balance', 'number.terrace_speaker_treble', 'number.terrace_speaker_mid', 'number.terrace_speaker_bass', 'switch.terrace_speaker_surround_enabled', 'switch.terrace_speech_enhancement']}]}, {'Other': [{'name': 'laptop', 'entities': ['device_tracker.laptop', 'sensor.laptop_battery_level']}, {'name': 'smartphone', 'entities': ['device_tracker.android', 'sensor.android_battery_level', 'sensor.android_battery_temperature', 'sensor.android_battery_voltage']}, {'name': 'tablet', 'entities': ['device_tracker.tablet']}, {'name': 'smartwatch', 'entities': ['device_tracker.watch', 'sensor.steps', 'sensor.heart_rate']}]}]\n"
     ]
    },
    {
     "name": "stderr",
     "output_type": "stream",
     "text": [
      "Skipped 0:  40%|████      | 2/5 [00:23<00:36, 12.03s/it]"
     ]
    },
    {
     "name": "stdout",
     "output_type": "stream",
     "text": [
      "[{'Bedrooms': [{'name': 'light', 'entities': ['light.bedroom1', 'light.bedroom2', 'light.bedroom3', 'light.bedroom4', 'light.bedroom5', 'light.bedroom6', 'light.bedroom7']}, {'name': 'smart_tv', 'entities': ['media_player.bedroom1_tv', 'remote.bedroom1_tv', 'binary_sensor.bedroom1_tv_headphones_connected', 'media_player.bedroom2_tv', 'remote.bedroom2_tv', 'binary_sensor.bedroom2_tv_headphones_connected', 'media_player.bedroom3_tv', 'remote.bedroom3_tv', 'binary_sensor.bedroom3_tv_headphones_connected', 'media_player.bedroom4_tv', 'remote.bedroom4_tv', 'binary_sensor.bedroom4_tv_headphones_connected', 'media_player.bedroom5_tv', 'remote.bedroom5_tv', 'binary_sensor.bedroom5_tv_headphones_connected', 'media_player.bedroom6_tv', 'remote.bedroom6_tv', 'binary_sensor.bedroom6_tv_headphones_connected', 'media_player.bedroom7_tv', 'remote.bedroom7_tv', 'binary_sensor.bedroom7_tv_headphones_connected']}]}, {'Living Room': [{'name': 'light', 'entities': ['light.living_room']}, {'name': 'smart_tv', 'entities': ['media_player.living_room_tv', 'remote.living_room_tv', 'binary_sensor.living_room_tv_headphones_connected']}, {'name': 'sound_system', 'entities': ['media_player.living_room_speakers']}]}, {'Outdoor Area': [{'name': 'light', 'entities': ['light.outdoor_area']}, {'name': 'climate_control', 'entities': ['climate.outdoor_area', 'sensor.outdoor_area_temperature', 'sensor.outdoor_area_humidity']}]}, {'Home Cinema': [{'name': 'smart_tv', 'entities': ['media_player.home_cinema_tv', 'remote.home_cinema_tv', 'binary_sensor.home_cinema_tv_headphones_connected']}, {'name': 'sound_system', 'entities': ['media_player.home_cinema_speakers']}]}, {'Kitchen': [{'name': 'light', 'entities': ['light.kitchen']}]}, {'Other': [{'name': 'smartphone', 'entities': ['device_tracker.smartphone']}, {'name': 'laptop', 'entities': ['device_tracker.laptop']}]}]\n"
     ]
    },
    {
     "name": "stderr",
     "output_type": "stream",
     "text": [
      "Skipped 0:  60%|██████    | 3/5 [00:28<00:17,  8.88s/it]"
     ]
    },
    {
     "name": "stdout",
     "output_type": "stream",
     "text": [
      "[{'Living Room': [{'name': 'light', 'entities': ['light.living_room']}, {'name': 'speaker', 'entities': ['media_player.living_room']}]}, {'Kitchen': [{'name': 'light', 'entities': ['light.kitchen']}]}, {'Bedrooms': [{'name': 'light', 'entities': ['light.bedroom']}]}, {'Garden': [{'name': 'light', 'entities': ['light.garden']}, {'name': 'speaker', 'entities': ['media_player.garden']}, {'name': 'smartphone', 'entities': ['device_tracker.android']}]}]\n"
     ]
    },
    {
     "name": "stderr",
     "output_type": "stream",
     "text": [
      "Skipped 0:  80%|████████  | 4/5 [00:35<00:08,  8.07s/it]"
     ]
    },
    {
     "name": "stdout",
     "output_type": "stream",
     "text": [
      "[{'Living Room': [{'name': 'light', 'entities': ['light.living_room']}, {'name': 'smart_tv', 'entities': ['media_player.living_room_tv', 'remote.living_room_tv', 'binary-sensor.living_room_tv_headphones_connected']}]}, {'Kitchen': [{'name': 'light', 'entities': ['light.kitchen']}]}, {'Bedrooms': [{'name': 'light', 'entities': ['light.bedroom']}]}, {'Balcony': [{'name': 'light', 'entities': ['light.balcony']}]}, {'Other': [{'name': 'laptop', 'entities': ['device_tracker.laptop']}, {'name': 'smartphone 1', 'entities': ['device_tracker.smartphone_1']}, {'name': 'smartphone 2', 'entities': ['device_tracker.smartphone_2']}]}]\n"
     ]
    },
    {
     "name": "stderr",
     "output_type": "stream",
     "text": [
      "Skipped 0: 100%|██████████| 5/5 [00:41<00:00,  8.26s/it]"
     ]
    },
    {
     "name": "stdout",
     "output_type": "stream",
     "text": [
      "[{'Living Room': [{'name': 'light', 'entities': ['light.living_room']}, {'name': 'climate_control', 'entities': ['climate.living_room', 'sensor.living_room_temperature', 'sensor.living_room_humidity']}]}, {'Bedrooms': [{'name': 'light', 'entities': ['light.bedroom']}, {'name': 'climate_control', 'entities': ['climate.bedroom', 'sensor.bedroom_temperature', 'sensor.bedroom_humidity']}]}, {'Porch': [{'name': 'light', 'entities': ['light.porch']}]}, {'Outdoor Shower': [{'name': 'water_heater', 'entities': ['water_heater.outdoor_shower', 'sensor.outdoor_shower_temperature']}]}, {'Other': [{'name': 'laptop', 'entities': ['device_tracker.laptop']}, {'name': 'smartphone', 'entities': ['device_tracker.android']}]}]\n"
     ]
    },
    {
     "name": "stderr",
     "output_type": "stream",
     "text": [
      "\n"
     ]
    }
   ],
   "source": [
    "from tqdm.auto import tqdm\n",
    "\n",
    "AREA_DEVICES_YAML = DATASET_DIR / \"area-devices.yaml\"\n",
    "DEVICE_ENTITIES_YAML = DATASET_DIR / \"device-entities.yaml\"\n",
    "\n",
    "with open(AREA_DEVICES_YAML) as f:\n",
    "    content = f.read()\n",
    "\n",
    "data = yaml.safe_load(content)\n",
    "\n",
    "skipped = 0\n",
    "with open(DEVICE_ENTITIES_YAML, \"w\") as device_output:\n",
    "    with tqdm(total=len(data)) as pbar:\n",
    "        for home in data:\n",
    "            response_obj = None\n",
    "            for i in range(3):\n",
    "                prompt = DEVICE_ENTITY_PROMPT_FORMAT.format(home=home, device_entities=\"\")\n",
    "                response = model.complete(DEVICE_TYPE_PROMPT, prompt)\n",
    "                try:\n",
    "                    response_obj = yaml.safe_load(response)\n",
    "                except yaml.YAMLError:\n",
    "                    continue\n",
    "            if response_obj is not None:\n",
    "                updated_home = home.copy()\n",
    "                updated_home.update({\"device_entities\": response_obj})\n",
    "                device_output.write(yaml.dump(updated_home, explicit_start=True, sort_keys=False))\n",
    "            pbar.set_description(f\"Skipped {skipped}\")\n",
    "            pbar.update(1)"
   ]
  }
 ],
 "metadata": {
  "kernelspec": {
   "display_name": "venv",
   "language": "python",
   "name": "python3"
  },
  "language_info": {
   "codemirror_mode": {
    "name": "ipython",
    "version": 3
   },
   "file_extension": ".py",
   "mimetype": "text/x-python",
   "name": "python",
   "nbconvert_exporter": "python",
   "pygments_lexer": "ipython3",
   "version": "3.11.3"
  }
 },
 "nbformat": 4,
 "nbformat_minor": 2
}
