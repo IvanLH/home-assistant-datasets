{
 "cells": [
  {
   "cell_type": "markdown",
   "metadata": {},
   "source": [
    "# Synthetic Device Entities\n",
    "\n",
    "This notebook is for creating synthetic entites based on the previously seeded devices for each area."
   ]
  },
  {
   "cell_type": "markdown",
   "metadata": {},
   "source": [
    "## Model Client"
   ]
  },
  {
   "cell_type": "code",
   "execution_count": 56,
   "metadata": {},
   "outputs": [],
   "source": [
    "import openai\n",
    "\n",
    "from home_assistant_datasets.secrets import get_secret\n",
    "from home_assistant_datasets import model_client\n",
    "\n",
    "MODEL_ID = \"gpt-3.5-turbo-0125\"\n",
    "\n",
    "openai = openai.OpenAI(api_key=get_secret(\"openai_key\"))\n",
    "model = model_client.ModelClient(openai, MODEL_ID)"
   ]
  },
  {
   "cell_type": "markdown",
   "metadata": {},
   "source": [
    "## Read Seed Data\n",
    "\n",
    "The seed data for the prompt is manually curated to use as examples for further synthetic data generation."
   ]
  },
  {
   "cell_type": "code",
   "execution_count": 57,
   "metadata": {},
   "outputs": [],
   "source": [
    "import pathlib\n",
    "import yaml\n",
    "\n",
    "DATASET_DIR = pathlib.Path(\"../datasets/\")\n",
    "SEEDS_DIR = DATASET_DIR / \"seeds\"\n",
    "TYPES_FILE = SEEDS_DIR / \"types.yaml\"\n",
    "DEVICE_ENTITIES_FILE = SEEDS_DIR / \"device-entities.yaml\"\n",
    "\n",
    "with open(TYPES_FILE) as f:\n",
    "    seeds = yaml.load(f.read(), Loader=yaml.Loader)\n",
    "\n",
    "platforms = seeds[\"platforms\"]\n",
    "sensor_device_classes = seeds[\"sensor_device_classes\"]\n",
    "binary_sensor_device_classes = seeds[\"binary_sensor_device_classes\"]\n",
    "\n",
    "with open(DEVICE_ENTITIES_FILE) as f:\n",
    "    seed_device_entities = list(yaml.load_all(f.read(), Loader=yaml.Loader))"
   ]
  },
  {
   "cell_type": "code",
   "execution_count": 58,
   "metadata": {},
   "outputs": [
    {
     "name": "stdout",
     "output_type": "stream",
     "text": [
      "{'home': {'name': 'Coastal Bungalow', 'thoughts': ['The bungalow in a seaside village may be a vacation home or a tranquil retreat.', 'The cozy living room with a fireplace hints at a cozy atmosphere, and there may be smart climate control for comfort.', 'The outdoor shower is convenient for beach days, so there may be smart water heating systems.'], 'desc': 'Bungalow in a seaside village in Norway', 'area_devices': {'Living Room': ['light', 'climate_control'], 'Bedrooms': ['light'], 'Porch': ['light'], 'Outdoor Shower': ['water_heater']}, 'other_devices': ['smartphone', 'laptop']}, 'device_entities': [{'Living Room': [{'name': 'light', 'entities': ['light.living_room']}, {'name': 'climate_control', 'entities': ['climage.living_room', 'sensor.living_room_temperature', 'sensor.living_room_humidity']}]}, {'Bedrooms': [{'name': 'light', 'entities': ['light.bedroom']}]}, {'Porch': [{'name': 'light', 'entities': ['light.porch']}]}, {'Outdoor Shower': [{'name': 'water_heater', 'entities': ['water_heater.outdoor_shower', 'sensor.outdoor_shower_temperature']}]}, {'Other': [{'name': 'smartphone', 'entities': ['device_tracker.android']}, {'name': 'laptop', 'entities': ['device_tracker.laptop']}]}]}\n",
      "{'home': {'name': 'Home2', 'thoughts': ['The apartment with city views may cater to a single person or a couple.', 'The shared rooftop terrace could have restrictions on device installations.', 'In-unit laundry suggests convenience, so there may be a smart washer and dryer.'], 'desc': 'Apartment in urban area in New York City, USA', 'area_devices': {'Living Room': ['light', 'smart_tv'], 'Kitchen': ['light'], 'Bedroom': ['light'], 'Balcony': ['light']}, 'other_devices': ['laptop', 'smartphone', 'tablet', 'smartwatch']}, 'device_entities': [{'Living Room': [{'name': 'light', 'entities': ['light.living_room']}, {'name': 'smart_tv', 'entities': ['media_player.living_room_tv', 'remote.living_room_tv', 'binary-sensor.living_room_tv_headphones_connected']}]}, {'Kitchen': [{'name': 'light', 'entities': ['light.kitchen']}]}, {'Bedroom': [{'name': 'light', 'entities': ['light.bedroom']}]}, {'Balcony': [{'name': 'light', 'entities': ['light.balcony']}]}, {'Other': [{'name': 'laptop', 'entities': ['device_tracker.laptop']}, {'name': 'tablet', 'entities': ['device_tracker.tablet']}, {'name': 'smartphone', 'entities': ['device_tracker.iphone']}, {'name': 'smartwatch', 'entities': ['device_tracker.watch', 'sensor.steps', 'sensor.heart_rate']}]}]}\n",
      "{'home': {'name': 'Loft Industrial', 'thoughts': ['The industrial loft with an open space and high ceilings may have a modern and minimalist design.', 'The panoramic windows offer plenty of natural light, ideal for a smart lighting system.', 'The rooftop terrace could be a great spot for outdoor entertainment, so there may be smart speakers or a sound system.'], 'desc': 'Industrial loft in Barcelona, Spain', 'area_devices': {'Living Space': ['light', 'speaker'], 'Kitchen': ['light'], 'Bathroom': ['light'], 'Terrace': ['light', 'speaker']}, 'other_devices': ['laptop', 'smartphone']}, 'device_entities': [{'Living Space': [{'name': 'light', 'entities': ['light.living_space']}, {'name': 'speaker', 'entities': ['media_player.living_space']}]}, {'Kitchen': [{'name': 'light', 'entities': ['light.kitchen']}]}, {'Terrace': [{'name': 'light', 'entities': ['light.terrace']}, {'name': 'speaker', 'entities': ['media_player.terrace', 'number.terrace_speaker_balance', 'number.terrace_speaker_treble', 'number.terrace_speaker_mid', 'number.terrace_speaker_bass', 'switch.terrace_speaker_surround_enabled', 'switch.terrace_speech_enhancement']}]}, {'Other': [{'name': 'laptop', 'entities': ['device_tracker.laptop', 'sensor.laptop_battery_level']}, {'name': 'smartphone', 'entities': ['device_tracker.android', 'sensor.android_battery_level', 'sensor.android_battery_temperature', 'sensor.android_battery_voltage']}]}]}\n"
     ]
    }
   ],
   "source": [
    "DEVICE_ENTITY_PROMPT_FORMAT = \"\"\"\n",
    "Input:\n",
    "{home}\n",
    "Output:\n",
    "{device_entities}\n",
    "\"\"\"\n",
    "\n",
    "item = []\n",
    "for seed in seed_device_entities:\n",
    "    print(seed)\n",
    "    home = yaml.dump(seed[\"home\"], sort_keys=False)\n",
    "    entities = yaml.dump(seed[\"device_entities\"], sort_keys=False)\n",
    "    item.append(DEVICE_ENTITY_PROMPT_FORMAT.format(home=home, device_entities=entities))\n",
    "\n",
    "seed_device_entity_prompt = \"\\n\".join(item)\n"
   ]
  },
  {
   "cell_type": "code",
   "execution_count": 59,
   "metadata": {},
   "outputs": [],
   "source": [
    "DEVICE_TYPE_PROMPT = f\"\"\"\n",
    "You are an expert in smart home automation and are generating data used to\n",
    "evaluate the performance of a smart home system Home Assistant on tasks like\n",
    "summarization, performing actions, or being an independent agent managing\n",
    "automations and maintenace tasks.\n",
    "\n",
    "A device in Home Assistant represents a physical or virtual object. Users interact\n",
    "with a device through entities. For example a smart light bulb may have an entity\n",
    "that represents the light bulb. A smart thermostat may have a climate entity and\n",
    "sensor and humidity sensors. A smart dishwasher device may be represented as a few\n",
    "sensors, a select entity for changing the mode, and switch entities.\n",
    "\n",
    "The following entity types are supported:\n",
    "{platforms}\n",
    "\n",
    "Below are example inputs and outputs for generating device entities for a home.\n",
    "\n",
    "{seed_device_entity_prompt}\n",
    "\"\"\""
   ]
  },
  {
   "cell_type": "code",
   "execution_count": 61,
   "metadata": {},
   "outputs": [
    {
     "name": "stderr",
     "output_type": "stream",
     "text": [
      "Skipped 0: 100%|██████████| 5/5 [00:56<00:00, 11.32s/it]\n"
     ]
    }
   ],
   "source": [
    "from tqdm.auto import tqdm\n",
    "import random\n",
    "\n",
    "N_DATAPOINTS = 5\n",
    "AREA_DEVICES_YAML = DATASET_DIR / \"area-devices.yaml\"\n",
    "DEVICE_ENTITIES_YAML = DATASET_DIR / \"device-entities.yaml\"\n",
    "\n",
    "with open(AREA_DEVICES_YAML) as f:\n",
    "    content = f.read()\n",
    "    homes = list(yaml.safe_load_all(content))\n",
    "\n",
    "random.shuffle(homes)\n",
    "\n",
    "if len(homes) > N_DATAPOINTS:\n",
    "    homes = homes[:N_DATAPOINTS]\n",
    "\n",
    "skipped = 0\n",
    "with open(DEVICE_ENTITIES_YAML, \"w\") as device_output:\n",
    "    with tqdm(total=len(homes)) as pbar:\n",
    "        for home in homes:\n",
    "            response_obj = None\n",
    "            for i in range(3):\n",
    "                prompt = DEVICE_ENTITY_PROMPT_FORMAT.format(home=home, device_entities=\"\")\n",
    "                response = model.complete(DEVICE_TYPE_PROMPT, prompt)\n",
    "                try:\n",
    "                    response_obj = yaml.safe_load(response)\n",
    "                except yaml.YAMLError:\n",
    "                    skipped += 1\n",
    "                    continue\n",
    "            if response_obj is not None:\n",
    "                updated_home = home.copy()\n",
    "                updated_home.update({\"device_entities\": response_obj})\n",
    "                device_output.write(yaml.dump(updated_home, explicit_start=True, sort_keys=False))\n",
    "            pbar.set_description(f\"Skipped {skipped}\")\n",
    "            pbar.update(1)"
   ]
  },
  {
   "cell_type": "markdown",
   "metadata": {},
   "source": [
    "## Validation\n",
    "\n",
    "Examine the dataset and look at the data and statistics. This is also a chance to perform any manual cleaning if there are minor formatting issues in the generated data.\n"
   ]
  },
  {
   "cell_type": "code",
   "execution_count": 85,
   "metadata": {},
   "outputs": [
    {
     "name": "stdout",
     "output_type": "stream",
     "text": [
      "Total homes: 5\n",
      "Total areas: 60 (average 12.00 per home)\n",
      "Total entities: 79 (average 1.32 per area)\n",
      "Total unique entities: 63\n",
      "Domains:\n"
     ]
    },
    {
     "data": {
      "text/plain": [
       "[('light', '29%'),\n",
       " ('switch', '14%'),\n",
       " ('device_tracker', '14%'),\n",
       " ('media_player', '13%'),\n",
       " ('sensor', '11%'),\n",
       " ('remote', '5%'),\n",
       " ('climate', '4%'),\n",
       " ('binary-sensor', '3%'),\n",
       " ('camera', '3%'),\n",
       " ('binary_sensor', '3%'),\n",
       " ('cover', '3%')]"
      ]
     },
     "execution_count": 85,
     "metadata": {},
     "output_type": "execute_result"
    }
   ],
   "source": [
    "import itertools\n",
    "from operator import itemgetter\n",
    "\n",
    "with open(DEVICE_ENTITIES_YAML, \"r\") as f:\n",
    "    content = f.read()\n",
    "    homes = list(yaml.load_all(content, Loader=yaml.Loader))\n",
    "\n",
    "entity_counts =  {}\n",
    "domain_counts = {}\n",
    "total_homes = len(homes)\n",
    "total_areas = 0\n",
    "total_entities = 0\n",
    "for home in homes:\n",
    "    area_devices = home[\"device_entities\"]\n",
    "    for area_data in area_devices:\n",
    "        area = next(iter(area_data.keys()))\n",
    "        device_data = next(iter(area_data.values()))\n",
    "        for device in device_data:\n",
    "            #for (area, device_data) in area_devices.items():\n",
    "            entities = device[\"entities\"]\n",
    "            total_areas += 1\n",
    "            for entity_id in entities:\n",
    "                if entity_id not in entity_counts:\n",
    "                    entity_counts[entity_id] = 0\n",
    "                entity_counts[entity_id] += 1\n",
    "                domain = entity_id.split(\".\")[0]\n",
    "                domain_counts[domain] = domain_counts.get(domain, 0) + 1\n",
    "                total_entities += 1\n",
    "\n",
    "\n",
    "print(f\"Total homes: {total_homes}\")\n",
    "print(f\"Total areas: {total_areas} (average {total_areas / total_homes:0.2f} per home)\")\n",
    "print(f\"Total entities: {total_entities} (average {total_entities / total_areas:0.2f} per area)\")\n",
    "print(f\"Total unique entities: {len(entity_counts)}\")\n",
    "\n",
    "sorted_dict = dict(sorted(domain_counts.items(), key=itemgetter(1), reverse=True))\n",
    "domain_rank = [ (k, f\"{(v / total_entities)*100:.0f}%\") for k, v in itertools.islice(sorted_dict.items(), 15) ]\n",
    "\n",
    "print(f\"Domains:\")\n",
    "domain_rank"
   ]
  }
 ],
 "metadata": {
  "kernelspec": {
   "display_name": "venv",
   "language": "python",
   "name": "python3"
  },
  "language_info": {
   "codemirror_mode": {
    "name": "ipython",
    "version": 3
   },
   "file_extension": ".py",
   "mimetype": "text/x-python",
   "name": "python",
   "nbconvert_exporter": "python",
   "pygments_lexer": "ipython3",
   "version": "3.11.3"
  }
 },
 "nbformat": 4,
 "nbformat_minor": 2
}
