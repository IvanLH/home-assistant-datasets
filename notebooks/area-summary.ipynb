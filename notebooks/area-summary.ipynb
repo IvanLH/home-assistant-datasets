{
 "cells": [
  {
   "cell_type": "markdown",
   "metadata": {},
   "source": [
    "# Area Summary\n",
    "\n",
    "This is an exercise to see if performing individual summaries of areas in the home are useful to understand the overall home summary."
   ]
  },
  {
   "cell_type": "markdown",
   "metadata": {},
   "source": [
    "## Setup client"
   ]
  },
  {
   "cell_type": "code",
   "execution_count": 1,
   "metadata": {},
   "outputs": [],
   "source": [
    "from secrets import get_secret\n",
    "import hass_data\n",
    "import hass_client\n",
    "import openai\n",
    "import model_client\n",
    "\n",
    "MODEL_ID = \"mistral-7b-inst.gguf\"\n",
    "\n",
    "secrets = get_secret(\"hostport\")\n",
    "client: hass_client.HomeAssistantClient = await hass_data.create_client(\n",
    "    get_secret(\"hostport\"), get_secret(\"hass_token\")\n",
    ")\n",
    "openai = openai.OpenAI(base_url=get_secret(\"openai_url\"), api_key=get_secret(\"openai_key\"))\n",
    "model = model_client.ModelClient(openai, MODEL_ID)"
   ]
  },
  {
   "cell_type": "code",
   "execution_count": 2,
   "metadata": {},
   "outputs": [],
   "source": [
    "from hass_client.models import Area, Device, Entity, State\n",
    "import hass_data\n",
    "\n",
    "home: hass_data.Home = await hass_data.get_home(client)"
   ]
  },
  {
   "cell_type": "code",
   "execution_count": 3,
   "metadata": {},
   "outputs": [
    {
     "data": {
      "text/plain": [
       "('548f06f0d7eb7b79de037861657e3e19', 'garden')"
      ]
     },
     "execution_count": 3,
     "metadata": {},
     "output_type": "execute_result"
    }
   ],
   "source": [
    "d = home.devices_by_area('closet')\n",
    "d[0]['id'], d[0]['name']"
   ]
  },
  {
   "cell_type": "code",
   "execution_count": 4,
   "metadata": {},
   "outputs": [
    {
     "data": {
      "text/plain": [
       "('binary_sensor.garden_security_status', None)"
      ]
     },
     "execution_count": 4,
     "metadata": {},
     "output_type": "execute_result"
    }
   ],
   "source": [
    "e = home.entities_by_device_id('548f06f0d7eb7b79de037861657e3e19')\n",
    "e[0]['entity_id'], e[0]['name']"
   ]
  },
  {
   "cell_type": "code",
   "execution_count": 5,
   "metadata": {},
   "outputs": [
    {
     "data": {
      "text/plain": [
       "('on',\n",
       " {'malware': 'safe',\n",
       "  'network': 'safe',\n",
       "  'securitySetting': 'safe',\n",
       "  'systemCheck': 'safe',\n",
       "  'update': 'outOfDate',\n",
       "  'userInfo': 'safe',\n",
       "  'attribution': 'Data provided by Synology',\n",
       "  'device_class': 'safety',\n",
       "  'friendly_name': 'garden Security status'})"
      ]
     },
     "execution_count": 5,
     "metadata": {},
     "output_type": "execute_result"
    }
   ],
   "source": [
    "\n",
    "state = home.get_state('binary_sensor.garden_security_status')\n",
    "state['state'], state.get('attributes')"
   ]
  },
  {
   "cell_type": "markdown",
   "metadata": {},
   "source": [
    "## Model"
   ]
  },
  {
   "cell_type": "code",
   "execution_count": 6,
   "metadata": {},
   "outputs": [
    {
     "data": {
      "text/plain": [
       "' The capital of France is Paris.'"
      ]
     },
     "execution_count": 6,
     "metadata": {},
     "output_type": "execute_result"
    }
   ],
   "source": [
    "response = model.complete(\"You are a helpful assistant\", \"What is the capital of France?\")\n",
    "response"
   ]
  },
  {
   "cell_type": "markdown",
   "metadata": {},
   "source": [
    "## Area Summary\n",
    "\n",
    "Attempt to get the list of devices in an area, the states of some of their entities, and create a summary."
   ]
  },
  {
   "cell_type": "code",
   "execution_count": 7,
   "metadata": {},
   "outputs": [],
   "source": [
    "def entity_data_for_area(area_id: str) -> list[str]:\n",
    "    entity_data = []\n",
    "    for device in home.devices_by_area(area_id):\n",
    "        entities = home.entities_by_device_id(device['id'])\n",
    "        if not entities:\n",
    "            continue\n",
    "        #print(device['name'])\n",
    "        for entity in entities:\n",
    "            state = home.get_state(entity['entity_id'])\n",
    "            attributes = state['attributes']\n",
    "            friendly_name = attributes.get('friendly_name')\n",
    "            entity_data.append(f\"{friendly_name}: {state['state']}\")\n",
    "    return entity_data\n"
   ]
  },
  {
   "cell_type": "code",
   "execution_count": 8,
   "metadata": {},
   "outputs": [],
   "source": [
    "PROMPT = f\"\"\"\n",
    "You are an agent running in Home Assistant. Your job is to summarize the status of an area\n",
    "which will be fed as input into other agents. The user will feed in details about\n",
    "areas and devices in the home, and you will respond with a summary of the status of the area.\n",
    "\n",
    "Your summaries are succint, and do not mention boring details or things that seem\n",
    "very mundane or minor. A one sentence summary is best.\n",
    "\n",
    "\n",
    "Here is an example of the input and output:\n",
    "\n",
    "Area: Driveway\n",
    "  - Tesla: Charging\n",
    "  - Tesla Battery: 90%\n",
    "  - Tesla Estimated range: 200 miles\n",
    "  - Pedestrian Gate: No motion\n",
    "  - Sprinkler: Off\n",
    "\n",
    "Summary: The car is almost charged.\n",
    "\"\"\"\n"
   ]
  },
  {
   "cell_type": "code",
   "execution_count": 9,
   "metadata": {},
   "outputs": [
    {
     "name": "stdout",
     "output_type": "stream",
     "text": [
      "Area: Living Room\n",
      "Summary:  Summary: The living room lights are on.\n",
      "Area: Kitchen\n",
      "Summary:  The kitchen is dark, with the vacuum docked and a partially open Nook.\n",
      "Area: Bedroom\n",
      "Summary:  The bedroom is dark and quiet.\n",
      "Area: Backyard\n",
      "Summary:  Summary: The backyard is at a comfortable temperature, but there are no motion sensors or other devices active.\n",
      "Area: Frontyard\n",
      "Summary:  The car is almost charged and ready to go. The frontyard has a streaming sound, and the flume sensor is monitoring water usage.\n",
      "Area: Dining Room\n",
      "Summary:  The dining room is at a comfortable temperature and has natural light, but the chandelier is off.\n",
      "Area: Office\n",
      "Summary:  Summary: The office blinds are open.\n",
      "Area: Garage\n",
      "Summary:  Summary: The litter boxes are docked and the waste drawers are at 31.3% and 84.6%.\n",
      "Area: Patio\n",
      "Summary:  Summary: Nothing on the patio\n",
      "Area: Family Room\n",
      "Summary:  The family room is currently being used.\n",
      "Area: Loft\n",
      "Summary:  The loft is paused and the media playback status is paused. The Roborock Upstairs is docked and the Frekvens display mode is set to date. The loft volume is at 90%.\n",
      "Area: Closet\n",
      "Summary:  Summary: The garden is secure and has normal status.\n",
      "Area: Cabana\n",
      "Summary:  The relative humidity in the cabana is at 59%, and the temperature is 71.8 degrees Fahrenheit.\n",
      "Area: Attic\n",
      "Summary:  Summary: The attic temperature is high.\n",
      "Area: Front Door\n",
      "Summary:  Summary: The front door is being used and the porch is dimmed.\n"
     ]
    }
   ],
   "source": [
    "\n",
    "for area in home.areas:\n",
    "    entity_data = entity_data_for_area(area['area_id'])\n",
    "    entity_text = \"\\n\".join([f\"  - {data}\" for data in entity_data])\n",
    "    message = f\"\"\"Area: {area['name']}\n",
    "{entity_text}\n",
    "\n",
    "Summary:\n",
    "\"\"\"\n",
    "    response = model.complete(PROMPT, message)\n",
    "\n",
    "    print(f\"Area: {area['name']}\")\n",
    "    print(f\"Summary: {response}\")\n"
   ]
  },
  {
   "cell_type": "markdown",
   "metadata": {},
   "source": [
    "## Overall summary\n"
   ]
  },
  {
   "cell_type": "code",
   "execution_count": 13,
   "metadata": {},
   "outputs": [
    {
     "name": "stdout",
     "output_type": "stream",
     "text": [
      "Summary:  The living room, office, bedroom, kitchen, dining room, patio, and family room are in use or have power on.\n"
     ]
    }
   ],
   "source": [
    "OVERALL_PROMPT = f\"\"\"\n",
    "You are an agent running in Home Assistant that is the overall house summary\n",
    "agent. Other agents have summarized invidivual areas, and you are responsible\n",
    "for picking out the important details, ignoring the mundane. You write succinct,\n",
    "1 sentence summaries of the entire house that can be displayed on a dashboard.\n",
    "You don't need to comment on every area, and can omit any that are mundane.\n",
    "\n",
    "For example:\n",
    "Areas:\n",
    "- Living Room: The lights are off.\n",
    "- Kitchen: The kitchen lights are off.\n",
    "- Bedroom: The bedroom light is on.\n",
    "- Backyard: The backyard is at a comfortable temperature, but there are no motion sensors or other devices active.\n",
    "- Frontyard:  The car is idle. The the flume sensor is monitoring water usage.\n",
    "- Dining Room: The dining room is at a comfortable temperature, the chandelier is off.\n",
    "- Office: The office blinds are closed.\n",
    "- Family Room: The family room is currently being used.\n",
    "\n",
    "Summary: The bedroom light is on.\n",
    "\n",
    "The user will enter the summaries from the agents, and you should respond\n",
    "with a 1 sentence succinct summary of the entire home.\n",
    "\"\"\"\n",
    "\n",
    "message = \"\"\"\n",
    "Areas:\n",
    "- Living Room: The living room lights are on.\n",
    "- Kitchen: The kitchen is dark, with the vacuum docked and a partially open Nook.\n",
    "- Bedroom: The bedroom is dark and quiet.\n",
    "- Backyard: The backyard is at a comfortable temperature, but there are no motion sensors or other devices active.\n",
    "- Frontyard:  The car is almost charged and ready to go. The frontyard has a streaming sound, and the flume sensor is monitoring water usage.\n",
    "- Dining Room: The dining room is at a comfortable temperature and has natural light, but the chandelier is off.\n",
    "- Office: The office blinds are open.\n",
    "- Garage: The litter boxes are docked and the waste drawers are at 31.3% and 84.6%.\n",
    "- Patio:  Nothing on the patio\n",
    "- Family Room: The family room is currently being used.\n",
    "- Loft:  The loft is paused and the media playback status is paused. The Roborock Upstairs is docked and the Frekvens display mode is set to date. The loft volume is at 90%.\n",
    "- Closet: The garden is secure and has normal status.\n",
    "- Cabana: The relative humidity in the cabana is at 59%, and the temperature is 71.8 degrees Fahrenheit.\n",
    "- Attic: The attic temperature is high.\n",
    "- Front Door The front door is being used and the porch is dimmed.\n",
    "\n",
    "Summary: \n",
    "\"\"\"\n",
    "\n",
    "response = model.complete(OVERALL_PROMPT, message)\n",
    "\n",
    "print(f\"Summary: {response}\")\n"
   ]
  }
 ],
 "metadata": {
  "kernelspec": {
   "display_name": "venv",
   "language": "python",
   "name": "python3"
  },
  "language_info": {
   "codemirror_mode": {
    "name": "ipython",
    "version": 3
   },
   "file_extension": ".py",
   "mimetype": "text/x-python",
   "name": "python",
   "nbconvert_exporter": "python",
   "pygments_lexer": "ipython3",
   "version": "3.11.3"
  }
 },
 "nbformat": 4,
 "nbformat_minor": 2
}
