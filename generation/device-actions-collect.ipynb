{
 "cells": [
  {
   "cell_type": "markdown",
   "metadata": {},
   "source": [
    "# Use assistant as a teacher"
   ]
  },
  {
   "cell_type": "markdown",
   "metadata": {},
   "source": [
    "```bash\n",
    "$ home-assistant-datasets assist collect --dataset ./datasets/device-actions-v2-fixtures/ --model_output_dir=./datasets/device-actions-v2-collect/ --models=assistant\n",
    "```"
   ]
  },
  {
   "cell_type": "markdown",
   "metadata": {},
   "source": [
    "# Mark Failed"
   ]
  },
  {
   "cell_type": "code",
   "execution_count": 2,
   "metadata": {},
   "outputs": [],
   "source": [
    "import pathlib\n",
    "import yaml\n",
    "import slugify\n",
    "\n",
    "DATASET_DIR = pathlib.Path(\"../datasets/\")\n",
    "FIXTTURES_DIR = DATASET_DIR / \"device-actions-v2-fixtures\"\n",
    "COLLECT_DIR = DATASET_DIR / \"device-actions-v2-collect\"\n",
    "ASSIST_TEACHER_DIR = COLLECT_DIR / \"assistant\"\n",
    "\n",
    "(COLLECT_DIR / \"train\").mkdir(exist_ok=True)\n",
    "\n",
    "success = {}\n",
    "total = {}\n",
    "\n",
    "for path in FIXTTURES_DIR.glob(\"**/*.yaml\"):\n",
    "    if path.name == \"_fixtures.yaml\":\n",
    "        continue\n",
    "    home_id = path.parent.name\n",
    "    category = path.name.split(\".\")[0]\n",
    "\n",
    "    fixture_record = yaml.load(path.read_text(), Loader=yaml.CSafeLoader)\n",
    "\n",
    "    file_prefix = \"_\".join([\n",
    "        slugify.slugify(home_id, separator=\"_\"),\n",
    "        slugify.slugify(category, separator=\"_\"),\n",
    "    ])\n",
    "    assist_outputs = ASSIST_TEACHER_DIR.glob(f\"{file_prefix}*.yaml\")\n",
    "    tool_calls = {}\n",
    "    for filename in assist_outputs:\n",
    "        total[category] = total.get(category, 0) + 1\n",
    "        record = yaml.load(filename.read_text(), Loader=yaml.CSafeLoader)\n",
    "        sentence = record[\"task\"][\"input_text\"]\n",
    "        if record[\"response\"].startswith(\"Sorry\"):\n",
    "            continue\n",
    "        success[category] = success.get(category, 0) + 1\n",
    "\n",
    "        context = record[\"context\"]\n",
    "        conversation_trace = context[\"conversation_trace\"]\n",
    "        if len(conversation_trace) < 2:\n",
    "            continue\n",
    "        if conversation_trace[1][\"event_type\"] != \"tool_call\":\n",
    "            continue\n",
    "        tool_call = conversation_trace[1][\"data\"]\n",
    "        tool_calls[sentence] = tool_call\n",
    "\n",
    "    output_record = fixture_record.copy()\n",
    "    output_record[\"tests\"] = []\n",
    "\n",
    "    tests = fixture_record[\"tests\"]\n",
    "    for test in tests:\n",
    "        tool_call = None\n",
    "        for sentence in test[\"sentences\"]:\n",
    "            if sentence not in tool_calls:\n",
    "                continue\n",
    "            tool_call = tool_calls[sentence]\n",
    "            if tool_call:\n",
    "                output_record[\"tests\"].append({\n",
    "                    \"sentences\": [sentence],\n",
    "                    \"tool_call\": tool_call,\n",
    "                })\n",
    "\n",
    "    if output_record[\"tests\"]:\n",
    "        (COLLECT_DIR / \"train\" / home_id).mkdir(exist_ok=True)\n",
    "        out_file = COLLECT_DIR / \"train\" / home_id / f\"{category}.yaml\"\n",
    "        out_file.write_text(yaml.dump(output_record, sort_keys=False, explicit_start=True))\n"
   ]
  },
  {
   "cell_type": "code",
   "execution_count": null,
   "metadata": {},
   "outputs": [],
   "source": [
    "for category in total:\n",
    "    s = success.get(category, 0)\n",
    "    t = total[category]\n",
    "    print(f\"{category} - {s} - {100*(s / t):0.2f}%\")"
   ]
  }
 ],
 "metadata": {
  "kernelspec": {
   "display_name": "Python 3",
   "language": "python",
   "name": "python3"
  },
  "language_info": {
   "codemirror_mode": {
    "name": "ipython",
    "version": 3
   },
   "file_extension": ".py",
   "mimetype": "text/x-python",
   "name": "python",
   "nbconvert_exporter": "python",
   "pygments_lexer": "ipython3",
   "version": "3.12.2"
  }
 },
 "nbformat": 4,
 "nbformat_minor": 2
}
