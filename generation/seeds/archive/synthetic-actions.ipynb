{
 "cells": [
  {
   "cell_type": "markdown",
   "metadata": {},
   "source": [
    "# Synthetic Actions\n",
    "\n",
    "Generate a dataset of questions or actions a user may wish to perform with their smart home."
   ]
  },
  {
   "cell_type": "code",
   "execution_count": 1,
   "metadata": {},
   "outputs": [],
   "source": [
    "import openai\n",
    "\n",
    "from home_assistant_datasets.secrets import get_secret\n",
    "from home_assistant_datasets import model_client\n",
    "\n",
    "MODEL_ID = \"gpt-3.5-turbo-0125\"\n",
    "\n",
    "openai = openai.OpenAI(api_key=get_secret(\"openai_key\"))\n",
    "model = model_client.ModelClient(openai, MODEL_ID)"
   ]
  },
  {
   "cell_type": "markdown",
   "metadata": {},
   "source": [
    "# Synthetic Action Generation"
   ]
  },
  {
   "cell_type": "code",
   "execution_count": 2,
   "metadata": {},
   "outputs": [],
   "source": [
    "import pathlib\n",
    "import yaml\n",
    "\n",
    "DATASET_DIR = pathlib.Path(\"../datasets/\")\n",
    "SEEDS_DIR = DATASET_DIR / \"seeds\"\n",
    "HOME_AREAS_FILE = SEEDS_DIR / \"actions.yaml\"\n",
    "\n",
    "with open(HOME_AREAS_FILE) as f:\n",
    "    seed_actions = yaml.load(f.read(), Loader=yaml.Loader)"
   ]
  },
  {
   "cell_type": "code",
   "execution_count": 12,
   "metadata": {},
   "outputs": [],
   "source": [
    "ACTIONS_PROMPT = f\"\"\"\n",
    "You are an expert in smart home automation and are generating data used to\n",
    "evaluate the performance of a smart home system Home Assistant on tasks like\n",
    "summarization, performing actions, or being an independent agent managing\n",
    "automations and maintenace tasks.\n",
    "\n",
    "A device in Home Assistant represents a physical or virtual object. Users interact\n",
    "with a device through entities. For example a smart light bulb may have an entity\n",
    "that represents the light bulb. A smart thermostat may have a climate entity and\n",
    "sensor and humidity sensors. A smart dishwasher device may be represented as a few\n",
    "sensors, a select entity for changing the mode, and switch entities.\n",
    "\n",
    "You are going to help generate the evaluation dataset for home data that\n",
    "consists of details about the home and its location, areas of the home, and\n",
    "devices and entities present. You will mostly generate questions that are\n",
    "relevant for evaluation against the smart home, but also occasioanlly you should\n",
    "throw in some actions that are not relevant so we can test those too.\n",
    "\n",
    "The following are example actions that could be generated for a smart home:\n",
    "{seed_actions}\n",
    "\"\"\""
   ]
  },
  {
   "cell_type": "code",
   "execution_count": 13,
   "metadata": {},
   "outputs": [],
   "source": [
    "response = model.complete(ACTIONS_PROMPT, \"Generate 20 possible actions\")"
   ]
  },
  {
   "cell_type": "code",
   "execution_count": 14,
   "metadata": {},
   "outputs": [
    {
     "name": "stdout",
     "output_type": "stream",
     "text": [
      "1. Summarize the energy consumption of all devices in the home.\n",
      "2. Evaluate the indoor air quality and suggest actions to improve it.\n",
      "3. Turn off the irrigation system if it is raining outside.\n",
      "4. Notify the user if a window or door is left open while the HVAC system is running.\n",
      "5. Determine the optimal temperature settings for energy efficiency based on weather forecast.\n",
      "6. Check if all the devices in the home are connected to the WiFi network.\n",
      "7. Turn on the porch lights at sunset and turn them off at sunrise.\n",
      "8. Notify the user if the refrigerator door has been left open for an extended period.\n",
      "9. Evaluate the security camera footage and notify the user of any suspicious activity.\n",
      "10. Adjust the thermostat settings based on the number of occupants in the home.\n",
      "11. Activate the robot vacuum to clean specific rooms at scheduled times.\n",
      "12. Notify the user if the garage door is open and it's starting to rain.\n",
      "13. Determine if any devices in the home need software updates or maintenance.\n",
      "14. Turn on the humidifier if the humidity levels in the home are too low.\n",
      "15. Notify the user if the smart smoke detector detects any smoke or fire.\n",
      "16. Evaluate the water usage and suggest ways to conserve water.\n",
      "17. Adjust the blinds based on the position of the sun to optimize natural light.\n",
      "18. Notify the user if a smart appliance is malfunctioning and needs repair.\n",
      "19. Activate the smart alarm system when the last person leaves the home.\n",
      "20. Determine if the smart lock needs new batteries and notify the user if necessary.\n"
     ]
    }
   ],
   "source": [
    "print(response)"
   ]
  },
  {
   "cell_type": "code",
   "execution_count": 19,
   "metadata": {},
   "outputs": [
    {
     "name": "stderr",
     "output_type": "stream",
     "text": [
      "  0%|          | 0/5 [00:00<?, ?it/s]"
     ]
    },
    {
     "name": "stderr",
     "output_type": "stream",
     "text": [
      "Skipped 0: 100%|██████████| 5/5 [00:17<00:00,  3.49s/it]\n"
     ]
    }
   ],
   "source": [
    "import itertools\n",
    "import random\n",
    "from tqdm.auto import tqdm\n",
    "\n",
    "N_DATAPOINTS = 10\n",
    "DEVICE_ENTITIES_YAML = DATASET_DIR / \"device-entities.yaml\"\n",
    "ACTIONS_YAML = DATASET_DIR / \"actions.yaml\"\n",
    "\n",
    "with open(DEVICE_ENTITIES_YAML, \"r\") as f:\n",
    "    content = f.read()\n",
    "    homes = list(yaml.load_all(content, Loader=yaml.Loader))\n",
    "\n",
    "random.shuffle(homes)\n",
    "\n",
    "if len(homes) > N_DATAPOINTS:\n",
    "    homes = homes[:N_DATAPOINTS]\n",
    "\n",
    "skipped = 0\n",
    "\n",
    "with open(ACTIONS_YAML, \"w\") as area_output:\n",
    "    with tqdm(total=len(homes)) as pbar:\n",
    "        for home in homes:\n",
    "            home_yaml = yaml.dump(home, sort_keys=False)\n",
    "            response = model.complete(ACTIONS_PROMPT, \"Generate 20 possible actions for this home\\n{home_yaml}\\n\\nactions:\")\n",
    "\n",
    "            try:\n",
    "                response_obj = yaml.safe_load(response)\n",
    "            except yaml.YAMLError:\n",
    "                skipped += 1\n",
    "                continue\n",
    "\n",
    "            updated_home = home.copy()\n",
    "            updated_home.update({\"actions\": response_obj})\n",
    "            area_output.write(yaml.dump(updated_home, explicit_start=True, sort_keys=False))\n",
    "            pbar.set_description(f\"Skipped {skipped}\")\n",
    "            pbar.update(1)\n"
   ]
  },
  {
   "cell_type": "markdown",
   "metadata": {},
   "source": []
  }
 ],
 "metadata": {
  "kernelspec": {
   "display_name": "venv",
   "language": "python",
   "name": "python3"
  },
  "language_info": {
   "codemirror_mode": {
    "name": "ipython",
    "version": 3
   },
   "file_extension": ".py",
   "mimetype": "text/x-python",
   "name": "python",
   "nbconvert_exporter": "python",
   "pygments_lexer": "ipython3",
   "version": "3.11.3"
  }
 },
 "nbformat": 4,
 "nbformat_minor": 2
}
