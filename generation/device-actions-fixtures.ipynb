{
 "cells": [
  {
   "cell_type": "markdown",
   "metadata": {},
   "source": [
    "# Device Actions Fixtures\n",
    "\n",
    "Generate test fixtures from the device actions datasets"
   ]
  },
  {
   "cell_type": "code",
   "execution_count": 33,
   "metadata": {},
   "outputs": [
    {
     "name": "stdout",
     "output_type": "stream",
     "text": [
      "40 479 1908\n",
      "---\n",
      "light: 619\n",
      "smart-plug: 109\n",
      "light-dimmable: 636\n",
      "hvac: 103\n",
      "exhaust-fan: 33\n",
      "smart-speaker: 141\n",
      "switch: 25\n",
      "smart-sprinkler: 56\n",
      "water-valve: 28\n",
      "garage-door: 18\n",
      "smart-tv: 95\n",
      "heat-pump: 10\n",
      "smart-lock: 15\n",
      "smart-blinds: 3\n",
      "vacuum: 11\n",
      "fan-oscilating: 6\n",
      "\n"
     ]
    }
   ],
   "source": [
    "import pathlib\n",
    "from synthetic_home import synthetic_home\n",
    "import shutil\n",
    "import yaml\n",
    "\n",
    "DATASET_DIR = pathlib.Path(\"../datasets/\")\n",
    "DEVICES_DIR = DATASET_DIR / \"devices-v3\"\n",
    "DEVICE_ACTIONS_DIR = DATASET_DIR / \"device-actions-v2\"\n",
    "DEVICE_ACTIONS_FIXTURES_DIR = DATASET_DIR / \"device-actions-v2-fixtures\"\n",
    "\n",
    "shutil.rmtree(DEVICE_ACTIONS_FIXTURES_DIR, ignore_errors=True)\n",
    "DEVICE_ACTIONS_FIXTURES_DIR.mkdir(exist_ok=True)\n",
    "\n",
    "homes_count = 0\n",
    "devices_count = 0\n",
    "sentences_count = 0\n",
    "device_type_sentences = {}\n",
    "\n",
    "for devices_file in DEVICES_DIR.glob(\"*.yaml\"):\n",
    "   home_id = devices_file.name.split(\".\")[0]\n",
    "   home = synthetic_home.load_synthetic_home(devices_file)\n",
    "\n",
    "   home_dir = DEVICE_ACTIONS_FIXTURES_DIR / home_id\n",
    "   home_dir.mkdir(exist_ok=True)\n",
    "\n",
    "   inventory = synthetic_home.build_inventory(home)\n",
    "\n",
    "   fixtures = home_dir / \"_fixtures.yaml\"\n",
    "   fixtures.write_text(inventory.to_yaml())\n",
    "\n",
    "   homes_count += 1\n",
    "   category_tasks = {}\n",
    "   for actions_file in (DEVICE_ACTIONS_DIR / home_id).glob(\"*.yaml\"):\n",
    "      devices_count += 1\n",
    "      device_actions = yaml.load(actions_file.read_text(), Loader=yaml.CSafeLoader)\n",
    "      device = device_actions[\"device\"]\n",
    "      category = device[\"device_type\"]\n",
    "      if category not in category_tasks:\n",
    "         category_tasks[category] = []\n",
    "\n",
    "      actions = device_actions[\"actions\"]\n",
    "      if \"actions\" in actions:\n",
    "         actions = actions[\"actions\"]\n",
    "      for action_data in actions:\n",
    "         sentences = action_data[\"sentences\"]\n",
    "         category_tasks[category].append(sentences)\n",
    "      sentences_count += len(sentences)\n",
    "      device_type_sentences[category] = device_type_sentences.get(category, 0) + len(sentences)\n",
    "\n",
    "   for category, tasks in category_tasks.items():\n",
    "      data = {\n",
    "         \"category\": category,\n",
    "         \"tests\": [\n",
    "         {\n",
    "            \"sentences\": sentences\n",
    "         }\n",
    "         for sentences in tasks\n",
    "         ]\n",
    "      }\n",
    "      category_file = home_dir / f\"{category}.yaml\"\n",
    "      category_file.write_text(yaml.dump(data, sort_keys=False, explicit_start=True))\n",
    "\n",
    "print(homes_count, devices_count, sentences_count)\n",
    "print(yaml.dump(device_type_sentences, explicit_start=True, sort_keys=False))\n"
   ]
  }
 ],
 "metadata": {
  "kernelspec": {
   "display_name": "Python 3",
   "language": "python",
   "name": "python3"
  },
  "language_info": {
   "codemirror_mode": {
    "name": "ipython",
    "version": 3
   },
   "file_extension": ".py",
   "mimetype": "text/x-python",
   "name": "python",
   "nbconvert_exporter": "python",
   "pygments_lexer": "ipython3",
   "version": "3.12.2"
  }
 },
 "nbformat": 4,
 "nbformat_minor": 2
}
