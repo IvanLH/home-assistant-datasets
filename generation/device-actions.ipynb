{
 "cells": [
  {
   "cell_type": "markdown",
   "metadata": {},
   "source": [
    "# Device Actions\n",
    "\n",
    "Generates datasets for performing actions on devices in a synthetic home. This will generate a list\n",
    "of text / voice commands that you can perform in a home. These are not labeled with the outcome\n",
    "which is generated in a later step."
   ]
  },
  {
   "cell_type": "code",
   "execution_count": 68,
   "metadata": {
    "metadata": {}
   },
   "outputs": [],
   "source": [
    "import openai\n",
    "import google.generativeai as genai\n",
    "\n",
    "from home_assistant_datasets import secrets\n",
    "from home_assistant_datasets.secrets import get_secret\n",
    "from home_assistant_datasets import model_client\n",
    "\n",
    "secrets.DEFAULT_SECRETS_FILE = \"../secrets.yaml\"\n",
    "\n",
    "# MODEL_ID = \"gpt-3.5-turbo-0125\"\n",
    "# openai = openai.OpenAI(api_key=secrets.get_secret(\"openai_api_key\"))\n",
    "# model = model_client.ModelClient(openai, MODEL_ID)\n",
    "\n",
    "# Gemini flash is higher quality and cheaper model than the GPT alternatives.\n",
    "MODEL_ID = \"gemini-1.5-flash\"\n",
    "genai.configure(api_key=secrets.get_secret(\"google_api_key\"))\n",
    "model = model_client.GoogleClient(MODEL_ID)"
   ]
  },
  {
   "cell_type": "markdown",
   "metadata": {},
   "source": [
    "# Generate few-shot exapmles\n",
    "\n",
    "Read the seed data used as a few-shot exampe."
   ]
  },
  {
   "cell_type": "code",
   "execution_count": 69,
   "metadata": {},
   "outputs": [
    {
     "name": "stdout",
     "output_type": "stream",
     "text": [
      "---\n",
      "home: mountain-cabin-us\n",
      "device:\n",
      "  name: Kitchen Overhead Light\n",
      "  area: Kitchen\n",
      "  device_type: light\n",
      "  device_info:\n",
      "    model: Smart LED Bulb\n",
      "    manufacturer: Philips\n",
      "    sw_version: 1.2.3\n",
      "capabilities:\n",
      "- Turn on\n",
      "- Turn off\n",
      "---\n",
      "actions:\n",
      "- action: Turn on\n",
      "  sentences:\n",
      "  - Please turn on the kitchen overhead light\n",
      "  - Turn on the kitchen light\n",
      "  - Kitchen light on\n",
      "- action: Turn off\n",
      "  sentences:\n",
      "  - Please turn off the kitchen overhead light\n",
      "  - Turn off the kitchen light\n",
      "  - Kitchen light off\n",
      "\n"
     ]
    }
   ],
   "source": [
    "import pathlib\n",
    "import yaml\n",
    "from synthetic_home import device_types\n",
    "\n",
    "\n",
    "DATASET_DIR = pathlib.Path(\"../datasets/\")\n",
    "DEVICES_DIR = DATASET_DIR / \"devices-v3\"\n",
    "SEEDS_DIR = pathlib.Path(\"./seeds\")\n",
    "SEED_DEVICE_ACTIONS_FILE = SEEDS_DIR / \"device-actions.yaml\"\n",
    "SEED_DEVICE_ACTIONS_CAPABILITIES_FILE = SEEDS_DIR / \"device-actions-capabilities.yaml\"\n",
    "\n",
    "with open(SEED_DEVICE_ACTIONS_FILE) as f:\n",
    "    seed_device_actions = list(yaml.load_all(f.read(), Loader=yaml.Loader))\n",
    "\n",
    "# This is a fixed list of capabilities that any particular synthetic home device type support\n",
    "with open(SEED_DEVICE_ACTIONS_CAPABILITIES_FILE) as f:\n",
    "    capabilities = {\n",
    "        cap[\"device_type\"]: cap[\"actions\"]\n",
    "        for cap in yaml.load(f.read(), Loader=yaml.Loader)\n",
    "    }\n",
    "\n",
    "seed_devices_prompt = \"\".join(yaml.dump(content, sort_keys=False, explicit_start=True) for content in seed_device_actions)\n",
    "print(seed_devices_prompt)\n",
    "\n",
    "registry = device_types.load_device_type_registry()\n",
    "# Find any devices missing explicit action capabilities definitions\n",
    "missing_devices = [\n",
    "    {\"device_type\": dt, \"actions\": []}\n",
    "    for dt in registry.device_types\n",
    "    if dt not in capabilities\n",
    "]\n",
    "if missing_devices:\n",
    "    print(yaml.dump(missing_devices, sort_keys=False))\n"
   ]
  },
  {
   "cell_type": "code",
   "execution_count": 70,
   "metadata": {},
   "outputs": [],
   "source": [
    "SUMMARY_PROMPT = f\"\"\"\n",
    "You are an expert Smart Home agent who can evaluate the performance of a smart\n",
    "home, and perform useful actions on behalf of a user.\n",
    "\n",
    "A device in Home Assistant represents a physical or virtual object, represented\n",
    "by different entities. A device has attributes for its configuration and state,\n",
    "for example a thermostat may have a mode attribute, or target or current temperature\n",
    "attributes.\n",
    "\n",
    "You generate a simple evaluation dataset for home data. The input dataset\n",
    "contains the home, description information like location, areas, and devices.\n",
    "The output data are actions a user may ask to take on a devie.\n",
    "\n",
    "This is the input yaml document and the output actions yaml document:\n",
    "\n",
    "{seed_devices_prompt}\n",
    "\n",
    "Generate a few sentences to control the device. Answer in yaml plain text and do not answer with markdown.\n",
    "\"\"\""
   ]
  },
  {
   "cell_type": "code",
   "execution_count": 71,
   "metadata": {},
   "outputs": [
    {
     "name": "stdout",
     "output_type": "stream",
     "text": [
      "(40, 480, 91)\n",
      "exhaust-fan: 11\n",
      "fan-oscilating: 2\n",
      "garage-door: 6\n",
      "heat-pump: 3\n",
      "hvac: 30\n",
      "light: 203\n",
      "light-dimmable: 85\n",
      "smart-blinds: 1\n",
      "smart-lock: 5\n",
      "smart-plug: 34\n",
      "smart-speaker: 49\n",
      "smart-sprinkler: 17\n",
      "smart-tv: 17\n",
      "switch: 8\n",
      "vacuum: 3\n",
      "water-valve: 6\n",
      "\n"
     ]
    }
   ],
   "source": [
    "import itertools\n",
    "import random\n",
    "from tqdm.auto import tqdm\n",
    "import shutil\n",
    "import slugify\n",
    "\n",
    "homes = []\n",
    "for path in DEVICES_DIR.glob(\"*.yaml\"):\n",
    "    with path.open(\"r\") as f:\n",
    "        content = f.read()\n",
    "    home_id = path.name.split(\".\")[0]  # Strip the .yaml extension\n",
    "    home_data = yaml.load(content, Loader=yaml.Loader)\n",
    "    homes.append((home_id, home_data))\n",
    "\n",
    "tasks = []\n",
    "no_actions = 0\n",
    "task_types = {}\n",
    "for home_id, home in homes:\n",
    "    home_template = {\n",
    "            \"home\": home_id,\n",
    "            \"location\": home[\"location\"],\n",
    "            \"type\": home[\"type\"],\n",
    "    }\n",
    "    for area, devices in home[\"devices\"].items():\n",
    "        for device in devices or []:\n",
    "            device_type = device[\"device_type\"]\n",
    "            if not (device_caps := capabilities.get(device_type)):\n",
    "                # No supported actions\n",
    "                no_actions += 1\n",
    "                continue\n",
    "            task_types[device_type] = task_types.get(device_type, 0) + 1\n",
    "            device_info = {\n",
    "                    **home_template,\n",
    "                    \"device\": {\n",
    "                        **device,\n",
    "                        \"area\": area,\n",
    "                    },\n",
    "                    \"capabilities\": device_caps,\n",
    "            }\n",
    "            tasks.append(device_info)\n",
    "print((len(homes), len(tasks), no_actions))\n",
    "print(yaml.dump(task_types))"
   ]
  },
  {
   "cell_type": "code",
   "execution_count": 72,
   "metadata": {},
   "outputs": [
    {
     "name": "stdout",
     "output_type": "stream",
     "text": [
      "---\n",
      "home: home4-us\n",
      "location: Coastal town in Florida\n",
      "type: Beach house\n",
      "device:\n",
      "  name: Kids Bathroom Light\n",
      "  device_type: light\n",
      "  device_info:\n",
      "    model: Smart LED Bulb\n",
      "    manufacturer: Philips\n",
      "    sw_version: 1.2.3\n",
      "  area: Kids Bathroom\n",
      "capabilities:\n",
      "- Turn on\n",
      "- Turn off\n",
      "\n"
     ]
    }
   ],
   "source": [
    "random.shuffle(tasks)\n",
    "print(yaml.dump(tasks[0], sort_keys=False, explicit_start=True))"
   ]
  },
  {
   "cell_type": "markdown",
   "metadata": {},
   "source": [
    "# Generate Output"
   ]
  },
  {
   "cell_type": "code",
   "execution_count": 75,
   "metadata": {},
   "outputs": [
    {
     "name": "stderr",
     "output_type": "stream",
     "text": [
      "  0%|          | 0/480 [00:00<?, ?it/s]"
     ]
    },
    {
     "name": "stderr",
     "output_type": "stream",
     "text": [
      "Skipped 0:  10%|█         | 48/480 [02:13<15:24,  2.14s/it]"
     ]
    },
    {
     "name": "stdout",
     "output_type": "stream",
     "text": [
      "expected a single document in the stream\n",
      "  in \"<unicode string>\", line 2, column 1:\n",
      "    actions:\n",
      "    ^\n",
      "but found another document\n",
      "  in \"<unicode string>\", line 20, column 1:\n",
      "    ---\n",
      "    ^\n"
     ]
    },
    {
     "name": "stderr",
     "output_type": "stream",
     "text": [
      "Skipped 1:  14%|█▍        | 69/480 [03:14<19:18,  2.82s/it]"
     ]
    },
    {
     "name": "stdout",
     "output_type": "stream",
     "text": [
      "expected a single document in the stream\n",
      "  in \"<unicode string>\", line 2, column 1:\n",
      "    actions:\n",
      "    ^\n",
      "but found another document\n",
      "  in \"<unicode string>\", line 13, column 1:\n",
      "    ---\n",
      "    ^\n"
     ]
    },
    {
     "name": "stderr",
     "output_type": "stream",
     "text": [
      "Skipped 2:  21%|██        | 99/480 [04:35<16:23,  2.58s/it]"
     ]
    },
    {
     "name": "stdout",
     "output_type": "stream",
     "text": [
      "expected a single document in the stream\n",
      "  in \"<unicode string>\", line 2, column 1:\n",
      "    actions:\n",
      "    ^\n",
      "but found another document\n",
      "  in \"<unicode string>\", line 13, column 1:\n",
      "    ---\n",
      "    ^\n"
     ]
    },
    {
     "name": "stderr",
     "output_type": "stream",
     "text": [
      "Skipped 4:  33%|███▎      | 158/480 [07:12<13:14,  2.47s/it]"
     ]
    },
    {
     "name": "stdout",
     "output_type": "stream",
     "text": [
      "expected a single document in the stream\n",
      "  in \"<unicode string>\", line 2, column 1:\n",
      "    actions:\n",
      "    ^\n",
      "but found another document\n",
      "  in \"<unicode string>\", line 13, column 1:\n",
      "    ---\n",
      "    ^\n"
     ]
    },
    {
     "name": "stderr",
     "output_type": "stream",
     "text": [
      "Skipped 4:  39%|███▉      | 186/480 [08:47<12:00,  2.45s/it]"
     ]
    },
    {
     "name": "stdout",
     "output_type": "stream",
     "text": [
      "expected a single document in the stream\n",
      "  in \"<unicode string>\", line 2, column 1:\n",
      "    actions:\n",
      "    ^\n",
      "but found another document\n",
      "  in \"<unicode string>\", line 19, column 1:\n",
      "    ---\n",
      "    ^\n"
     ]
    },
    {
     "name": "stderr",
     "output_type": "stream",
     "text": [
      "Skipped 6:  45%|████▌     | 217/480 [10:06<11:23,  2.60s/it]"
     ]
    },
    {
     "name": "stdout",
     "output_type": "stream",
     "text": [
      "expected a single document in the stream\n",
      "  in \"<unicode string>\", line 2, column 1:\n",
      "    actions:\n",
      "    ^\n",
      "but found another document\n",
      "  in \"<unicode string>\", line 22, column 1:\n",
      "    ---\n",
      "    ^\n"
     ]
    },
    {
     "name": "stderr",
     "output_type": "stream",
     "text": [
      "Skipped 6:  57%|█████▋    | 272/480 [12:30<07:35,  2.19s/it]"
     ]
    },
    {
     "name": "stdout",
     "output_type": "stream",
     "text": [
      "while parsing a block mapping\n",
      "  in \"<unicode string>\", line 13, column 3:\n",
      "    - action: Set position\n",
      "      ^\n",
      "expected <block end>, but found '<scalar>'\n",
      "  in \"<unicode string>\", line 17, column 16:\n",
      "      - [position] the shower\n",
      "                   ^\n"
     ]
    },
    {
     "name": "stderr",
     "output_type": "stream",
     "text": [
      "Skipped 8:  66%|██████▋   | 318/480 [14:27<07:41,  2.85s/it]"
     ]
    },
    {
     "name": "stdout",
     "output_type": "stream",
     "text": [
      "expected a single document in the stream\n",
      "  in \"<unicode string>\", line 2, column 1:\n",
      "    actions:\n",
      "    ^\n",
      "but found another document\n",
      "  in \"<unicode string>\", line 15, column 1:\n",
      "    ---\n",
      "    ^\n"
     ]
    },
    {
     "name": "stderr",
     "output_type": "stream",
     "text": [
      "Skipped 9:  80%|████████  | 386/480 [17:46<04:14,  2.70s/it]"
     ]
    },
    {
     "name": "stdout",
     "output_type": "stream",
     "text": [
      "expected a single document in the stream\n",
      "  in \"<unicode string>\", line 2, column 1:\n",
      "    actions:\n",
      "    ^\n",
      "but found another document\n",
      "  in \"<unicode string>\", line 21, column 1:\n",
      "    ---\n",
      "    ^\n"
     ]
    },
    {
     "name": "stderr",
     "output_type": "stream",
     "text": [
      "Skipped 9: 100%|██████████| 480/480 [22:00<00:00,  2.75s/it]\n"
     ]
    }
   ],
   "source": [
    "import slugify\n",
    "\n",
    "# Total number of records to generate\n",
    "N_DATAPOINTS = -1\n",
    "\n",
    "DEVICE_ACTIONS_OUTPUT_DIR = DATASET_DIR / \"device-actions-v2\"\n",
    "\n",
    "# Wipe existing summaries\n",
    "shutil.rmtree(DEVICE_ACTIONS_OUTPUT_DIR, ignore_errors=True)\n",
    "DEVICE_ACTIONS_OUTPUT_DIR.mkdir(exist_ok=True)\n",
    "\n",
    "random.shuffle(tasks)\n",
    "if N_DATAPOINTS > 0 and len(tasks) > N_DATAPOINTS:\n",
    "    tasks = tasks[:N_DATAPOINTS]\n",
    "\n",
    "skipped = 0\n",
    "with tqdm(total=len(tasks)) as pbar:\n",
    "    for task in tasks:\n",
    "        home_id = slugify.slugify(task[\"home\"], separator=\"-\")\n",
    "        task_id = \"_\".join([\n",
    "              slugify.slugify(task[\"device\"][\"area\"], separator=\"-\"),\n",
    "              slugify.slugify(task[\"device\"][\"name\"], separator=\"-\"),\n",
    "        ])\n",
    "        home_dir = DEVICE_ACTIONS_OUTPUT_DIR / home_id\n",
    "        if not home_dir.exists():\n",
    "            home_dir.mkdir()\n",
    "        with open(DEVICE_ACTIONS_OUTPUT_DIR / home_id / f\"{task_id}.yaml\", \"w\") as action_output:\n",
    "            task_yaml = yaml.dump(task, sort_keys=False, explicit_start=True)\n",
    "            response_obj = None\n",
    "            for i in range(3):\n",
    "                response = model.complete(SUMMARY_PROMPT, task_yaml)\n",
    "                try:\n",
    "                    response_obj = yaml.safe_load(response)\n",
    "                except yaml.YAMLError as err:\n",
    "                    print(err)\n",
    "                    skipped += 1\n",
    "                    continue\n",
    "            if response_obj is not None:\n",
    "                updated_task = task.copy()\n",
    "                updated_task.update({\"actions\": response_obj})\n",
    "                action_output.write(yaml.dump(updated_task, explicit_start=True, sort_keys=False))\n",
    "            pbar.set_description(f\"Skipped {skipped}\")\n",
    "            pbar.update(1)"
   ]
  }
 ],
 "metadata": {
  "kernelspec": {
   "display_name": "Python 3",
   "language": "python",
   "name": "python3"
  },
  "language_info": {
   "codemirror_mode": {
    "name": "ipython",
    "version": 3
   },
   "file_extension": ".py",
   "mimetype": "text/x-python",
   "name": "python",
   "nbconvert_exporter": "python",
   "pygments_lexer": "ipython3",
   "version": "3.12.2"
  }
 },
 "nbformat": 4,
 "nbformat_minor": 2
}
